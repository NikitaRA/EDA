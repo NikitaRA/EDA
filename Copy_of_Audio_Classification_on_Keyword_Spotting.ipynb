{
  "nbformat": 4,
  "nbformat_minor": 0,
  "metadata": {
    "colab": {
      "name": "Copy of Audio-Classification-on-Keyword-Spotting.ipynb",
      "provenance": [],
      "collapsed_sections": [],
      "toc_visible": true,
      "include_colab_link": true
    },
    "kernelspec": {
      "name": "python3",
      "display_name": "Python 3"
    },
    "language_info": {
      "name": "python"
    },
    "accelerator": "GPU",
    "widgets": {
      "application/vnd.jupyter.widget-state+json": {
        "5bcadbe817494febb5ff5006cb9b4a11": {
          "model_module": "@jupyter-widgets/controls",
          "model_name": "VBoxModel",
          "model_module_version": "1.5.0",
          "state": {
            "_dom_classes": [],
            "_model_module": "@jupyter-widgets/controls",
            "_model_module_version": "1.5.0",
            "_model_name": "VBoxModel",
            "_view_count": null,
            "_view_module": "@jupyter-widgets/controls",
            "_view_module_version": "1.5.0",
            "_view_name": "VBoxView",
            "box_style": "",
            "children": [
              "IPY_MODEL_8f91819470834f5b8b0d27496cac63fc",
              "IPY_MODEL_b48cf700be0144e3b6ff2d344d410d1f",
              "IPY_MODEL_68df615880fa47b88bf589687f6bc4e9"
            ],
            "layout": "IPY_MODEL_f83d71c147324d95b7820c397d28b29c"
          }
        },
        "8f91819470834f5b8b0d27496cac63fc": {
          "model_module": "@jupyter-widgets/controls",
          "model_name": "HTMLModel",
          "model_module_version": "1.5.0",
          "state": {
            "_dom_classes": [],
            "_model_module": "@jupyter-widgets/controls",
            "_model_module_version": "1.5.0",
            "_model_name": "HTMLModel",
            "_view_count": null,
            "_view_module": "@jupyter-widgets/controls",
            "_view_module_version": "1.5.0",
            "_view_name": "HTMLView",
            "description": "",
            "description_tooltip": null,
            "layout": "IPY_MODEL_77f1780384c94298af2d40264bd01c6e",
            "placeholder": "​",
            "style": "IPY_MODEL_649166f256e14392b50b1c9bbc57a1dc",
            "value": "<center>\n<img src=https://huggingface.co/front/assets/huggingface_logo-noborder.svg alt='Hugging Face'>\n<br>\n<b>The AI community building the future</b>\n<br>\nImmediately click login after typing your password or it might be stored in plain text in this notebook file.\n</center>"
          }
        },
        "b48cf700be0144e3b6ff2d344d410d1f": {
          "model_module": "@jupyter-widgets/controls",
          "model_name": "HBoxModel",
          "model_module_version": "1.5.0",
          "state": {
            "_dom_classes": [],
            "_model_module": "@jupyter-widgets/controls",
            "_model_module_version": "1.5.0",
            "_model_name": "HBoxModel",
            "_view_count": null,
            "_view_module": "@jupyter-widgets/controls",
            "_view_module_version": "1.5.0",
            "_view_name": "HBoxView",
            "box_style": "",
            "children": [
              "IPY_MODEL_d54ffbbcdabb44ca821a4147bc13a270",
              "IPY_MODEL_8326f52202e94ae0ac06e4fb41ae2ea9"
            ],
            "layout": "IPY_MODEL_4e228fbb456e4351b8e5fbdaf7a0fb7d"
          }
        },
        "68df615880fa47b88bf589687f6bc4e9": {
          "model_module": "@jupyter-widgets/controls",
          "model_name": "ButtonModel",
          "model_module_version": "1.5.0",
          "state": {
            "_dom_classes": [],
            "_model_module": "@jupyter-widgets/controls",
            "_model_module_version": "1.5.0",
            "_model_name": "ButtonModel",
            "_view_count": null,
            "_view_module": "@jupyter-widgets/controls",
            "_view_module_version": "1.5.0",
            "_view_name": "ButtonView",
            "button_style": "",
            "description": "Login",
            "disabled": false,
            "icon": "",
            "layout": "IPY_MODEL_829bf8aace624bc79130bf412115e594",
            "style": "IPY_MODEL_1855f7a9cf3c4ecaa624ff5938838d43",
            "tooltip": ""
          }
        },
        "f83d71c147324d95b7820c397d28b29c": {
          "model_module": "@jupyter-widgets/base",
          "model_name": "LayoutModel",
          "model_module_version": "1.2.0",
          "state": {
            "_model_module": "@jupyter-widgets/base",
            "_model_module_version": "1.2.0",
            "_model_name": "LayoutModel",
            "_view_count": null,
            "_view_module": "@jupyter-widgets/base",
            "_view_module_version": "1.2.0",
            "_view_name": "LayoutView",
            "align_content": null,
            "align_items": "center",
            "align_self": null,
            "border": null,
            "bottom": null,
            "display": "flex",
            "flex": null,
            "flex_flow": "column",
            "grid_area": null,
            "grid_auto_columns": null,
            "grid_auto_flow": null,
            "grid_auto_rows": null,
            "grid_column": null,
            "grid_gap": null,
            "grid_row": null,
            "grid_template_areas": null,
            "grid_template_columns": null,
            "grid_template_rows": null,
            "height": null,
            "justify_content": null,
            "justify_items": null,
            "left": null,
            "margin": null,
            "max_height": null,
            "max_width": null,
            "min_height": null,
            "min_width": null,
            "object_fit": null,
            "object_position": null,
            "order": null,
            "overflow": null,
            "overflow_x": null,
            "overflow_y": null,
            "padding": null,
            "right": null,
            "top": null,
            "visibility": null,
            "width": "50%"
          }
        },
        "77f1780384c94298af2d40264bd01c6e": {
          "model_module": "@jupyter-widgets/base",
          "model_name": "LayoutModel",
          "model_module_version": "1.2.0",
          "state": {
            "_model_module": "@jupyter-widgets/base",
            "_model_module_version": "1.2.0",
            "_model_name": "LayoutModel",
            "_view_count": null,
            "_view_module": "@jupyter-widgets/base",
            "_view_module_version": "1.2.0",
            "_view_name": "LayoutView",
            "align_content": null,
            "align_items": null,
            "align_self": null,
            "border": null,
            "bottom": null,
            "display": null,
            "flex": null,
            "flex_flow": null,
            "grid_area": null,
            "grid_auto_columns": null,
            "grid_auto_flow": null,
            "grid_auto_rows": null,
            "grid_column": null,
            "grid_gap": null,
            "grid_row": null,
            "grid_template_areas": null,
            "grid_template_columns": null,
            "grid_template_rows": null,
            "height": null,
            "justify_content": null,
            "justify_items": null,
            "left": null,
            "margin": null,
            "max_height": null,
            "max_width": null,
            "min_height": null,
            "min_width": null,
            "object_fit": null,
            "object_position": null,
            "order": null,
            "overflow": null,
            "overflow_x": null,
            "overflow_y": null,
            "padding": null,
            "right": null,
            "top": null,
            "visibility": null,
            "width": null
          }
        },
        "649166f256e14392b50b1c9bbc57a1dc": {
          "model_module": "@jupyter-widgets/controls",
          "model_name": "DescriptionStyleModel",
          "model_module_version": "1.5.0",
          "state": {
            "_model_module": "@jupyter-widgets/controls",
            "_model_module_version": "1.5.0",
            "_model_name": "DescriptionStyleModel",
            "_view_count": null,
            "_view_module": "@jupyter-widgets/base",
            "_view_module_version": "1.2.0",
            "_view_name": "StyleView",
            "description_width": ""
          }
        },
        "d54ffbbcdabb44ca821a4147bc13a270": {
          "model_module": "@jupyter-widgets/controls",
          "model_name": "TextModel",
          "model_module_version": "1.5.0",
          "state": {
            "_dom_classes": [],
            "_model_module": "@jupyter-widgets/controls",
            "_model_module_version": "1.5.0",
            "_model_name": "TextModel",
            "_view_count": null,
            "_view_module": "@jupyter-widgets/controls",
            "_view_module_version": "1.5.0",
            "_view_name": "TextView",
            "continuous_update": true,
            "description": "Username:",
            "description_tooltip": null,
            "disabled": false,
            "layout": "IPY_MODEL_2d58f0d4b8ff4c99b727a91eabe273c4",
            "placeholder": "​",
            "style": "IPY_MODEL_4ec0a61b42af4ff19ee07866c0dc4035",
            "value": ""
          }
        },
        "8326f52202e94ae0ac06e4fb41ae2ea9": {
          "model_module": "@jupyter-widgets/controls",
          "model_name": "PasswordModel",
          "model_module_version": "1.5.0",
          "state": {
            "_dom_classes": [],
            "_model_module": "@jupyter-widgets/controls",
            "_model_module_version": "1.5.0",
            "_model_name": "PasswordModel",
            "_view_count": null,
            "_view_module": "@jupyter-widgets/controls",
            "_view_module_version": "1.5.0",
            "_view_name": "PasswordView",
            "continuous_update": true,
            "description": "Password:",
            "description_tooltip": null,
            "disabled": false,
            "layout": "IPY_MODEL_1403d83de467401baa9206d2585f6ba7",
            "placeholder": "​",
            "style": "IPY_MODEL_dfdd193ca08b4e4eb2faf550e09b6c5c",
            "value": ""
          }
        },
        "4e228fbb456e4351b8e5fbdaf7a0fb7d": {
          "model_module": "@jupyter-widgets/base",
          "model_name": "LayoutModel",
          "model_module_version": "1.2.0",
          "state": {
            "_model_module": "@jupyter-widgets/base",
            "_model_module_version": "1.2.0",
            "_model_name": "LayoutModel",
            "_view_count": null,
            "_view_module": "@jupyter-widgets/base",
            "_view_module_version": "1.2.0",
            "_view_name": "LayoutView",
            "align_content": null,
            "align_items": null,
            "align_self": null,
            "border": null,
            "bottom": null,
            "display": null,
            "flex": null,
            "flex_flow": null,
            "grid_area": null,
            "grid_auto_columns": null,
            "grid_auto_flow": null,
            "grid_auto_rows": null,
            "grid_column": null,
            "grid_gap": null,
            "grid_row": null,
            "grid_template_areas": null,
            "grid_template_columns": null,
            "grid_template_rows": null,
            "height": null,
            "justify_content": null,
            "justify_items": null,
            "left": null,
            "margin": null,
            "max_height": null,
            "max_width": null,
            "min_height": null,
            "min_width": null,
            "object_fit": null,
            "object_position": null,
            "order": null,
            "overflow": null,
            "overflow_x": null,
            "overflow_y": null,
            "padding": null,
            "right": null,
            "top": null,
            "visibility": null,
            "width": null
          }
        },
        "829bf8aace624bc79130bf412115e594": {
          "model_module": "@jupyter-widgets/base",
          "model_name": "LayoutModel",
          "model_module_version": "1.2.0",
          "state": {
            "_model_module": "@jupyter-widgets/base",
            "_model_module_version": "1.2.0",
            "_model_name": "LayoutModel",
            "_view_count": null,
            "_view_module": "@jupyter-widgets/base",
            "_view_module_version": "1.2.0",
            "_view_name": "LayoutView",
            "align_content": null,
            "align_items": null,
            "align_self": null,
            "border": null,
            "bottom": null,
            "display": null,
            "flex": null,
            "flex_flow": null,
            "grid_area": null,
            "grid_auto_columns": null,
            "grid_auto_flow": null,
            "grid_auto_rows": null,
            "grid_column": null,
            "grid_gap": null,
            "grid_row": null,
            "grid_template_areas": null,
            "grid_template_columns": null,
            "grid_template_rows": null,
            "height": null,
            "justify_content": null,
            "justify_items": null,
            "left": null,
            "margin": null,
            "max_height": null,
            "max_width": null,
            "min_height": null,
            "min_width": null,
            "object_fit": null,
            "object_position": null,
            "order": null,
            "overflow": null,
            "overflow_x": null,
            "overflow_y": null,
            "padding": null,
            "right": null,
            "top": null,
            "visibility": null,
            "width": null
          }
        },
        "1855f7a9cf3c4ecaa624ff5938838d43": {
          "model_module": "@jupyter-widgets/controls",
          "model_name": "ButtonStyleModel",
          "model_module_version": "1.5.0",
          "state": {
            "_model_module": "@jupyter-widgets/controls",
            "_model_module_version": "1.5.0",
            "_model_name": "ButtonStyleModel",
            "_view_count": null,
            "_view_module": "@jupyter-widgets/base",
            "_view_module_version": "1.2.0",
            "_view_name": "StyleView",
            "button_color": null,
            "font_weight": ""
          }
        },
        "2d58f0d4b8ff4c99b727a91eabe273c4": {
          "model_module": "@jupyter-widgets/base",
          "model_name": "LayoutModel",
          "model_module_version": "1.2.0",
          "state": {
            "_model_module": "@jupyter-widgets/base",
            "_model_module_version": "1.2.0",
            "_model_name": "LayoutModel",
            "_view_count": null,
            "_view_module": "@jupyter-widgets/base",
            "_view_module_version": "1.2.0",
            "_view_name": "LayoutView",
            "align_content": null,
            "align_items": null,
            "align_self": null,
            "border": null,
            "bottom": null,
            "display": null,
            "flex": null,
            "flex_flow": null,
            "grid_area": null,
            "grid_auto_columns": null,
            "grid_auto_flow": null,
            "grid_auto_rows": null,
            "grid_column": null,
            "grid_gap": null,
            "grid_row": null,
            "grid_template_areas": null,
            "grid_template_columns": null,
            "grid_template_rows": null,
            "height": null,
            "justify_content": null,
            "justify_items": null,
            "left": null,
            "margin": null,
            "max_height": null,
            "max_width": null,
            "min_height": null,
            "min_width": null,
            "object_fit": null,
            "object_position": null,
            "order": null,
            "overflow": null,
            "overflow_x": null,
            "overflow_y": null,
            "padding": null,
            "right": null,
            "top": null,
            "visibility": null,
            "width": null
          }
        },
        "4ec0a61b42af4ff19ee07866c0dc4035": {
          "model_module": "@jupyter-widgets/controls",
          "model_name": "DescriptionStyleModel",
          "model_module_version": "1.5.0",
          "state": {
            "_model_module": "@jupyter-widgets/controls",
            "_model_module_version": "1.5.0",
            "_model_name": "DescriptionStyleModel",
            "_view_count": null,
            "_view_module": "@jupyter-widgets/base",
            "_view_module_version": "1.2.0",
            "_view_name": "StyleView",
            "description_width": ""
          }
        },
        "1403d83de467401baa9206d2585f6ba7": {
          "model_module": "@jupyter-widgets/base",
          "model_name": "LayoutModel",
          "model_module_version": "1.2.0",
          "state": {
            "_model_module": "@jupyter-widgets/base",
            "_model_module_version": "1.2.0",
            "_model_name": "LayoutModel",
            "_view_count": null,
            "_view_module": "@jupyter-widgets/base",
            "_view_module_version": "1.2.0",
            "_view_name": "LayoutView",
            "align_content": null,
            "align_items": null,
            "align_self": null,
            "border": null,
            "bottom": null,
            "display": null,
            "flex": null,
            "flex_flow": null,
            "grid_area": null,
            "grid_auto_columns": null,
            "grid_auto_flow": null,
            "grid_auto_rows": null,
            "grid_column": null,
            "grid_gap": null,
            "grid_row": null,
            "grid_template_areas": null,
            "grid_template_columns": null,
            "grid_template_rows": null,
            "height": null,
            "justify_content": null,
            "justify_items": null,
            "left": null,
            "margin": null,
            "max_height": null,
            "max_width": null,
            "min_height": null,
            "min_width": null,
            "object_fit": null,
            "object_position": null,
            "order": null,
            "overflow": null,
            "overflow_x": null,
            "overflow_y": null,
            "padding": null,
            "right": null,
            "top": null,
            "visibility": null,
            "width": null
          }
        },
        "dfdd193ca08b4e4eb2faf550e09b6c5c": {
          "model_module": "@jupyter-widgets/controls",
          "model_name": "DescriptionStyleModel",
          "model_module_version": "1.5.0",
          "state": {
            "_model_module": "@jupyter-widgets/controls",
            "_model_module_version": "1.5.0",
            "_model_name": "DescriptionStyleModel",
            "_view_count": null,
            "_view_module": "@jupyter-widgets/base",
            "_view_module_version": "1.2.0",
            "_view_name": "StyleView",
            "description_width": ""
          }
        },
        "7e8345b02d95411ba645686ebdadff59": {
          "model_module": "@jupyter-widgets/controls",
          "model_name": "HBoxModel",
          "model_module_version": "1.5.0",
          "state": {
            "_dom_classes": [],
            "_model_module": "@jupyter-widgets/controls",
            "_model_module_version": "1.5.0",
            "_model_name": "HBoxModel",
            "_view_count": null,
            "_view_module": "@jupyter-widgets/controls",
            "_view_module_version": "1.5.0",
            "_view_name": "HBoxView",
            "box_style": "",
            "children": [
              "IPY_MODEL_5c6ae007285f4cf2b628d6bc022093d6",
              "IPY_MODEL_39716fc5250a4fd684dc29f2cbf9711b",
              "IPY_MODEL_f58579b4035a48159808c2b3306c19d9"
            ],
            "layout": "IPY_MODEL_6699539ce5ff40b882a22dc62cae2bbf"
          }
        },
        "5c6ae007285f4cf2b628d6bc022093d6": {
          "model_module": "@jupyter-widgets/controls",
          "model_name": "HTMLModel",
          "model_module_version": "1.5.0",
          "state": {
            "_dom_classes": [],
            "_model_module": "@jupyter-widgets/controls",
            "_model_module_version": "1.5.0",
            "_model_name": "HTMLModel",
            "_view_count": null,
            "_view_module": "@jupyter-widgets/controls",
            "_view_module_version": "1.5.0",
            "_view_name": "HTMLView",
            "description": "",
            "description_tooltip": null,
            "layout": "IPY_MODEL_0a5a5e222a6a4c12b6a643f88b2af900",
            "placeholder": "​",
            "style": "IPY_MODEL_beeeb974032643c7a814d58eef4ea0da",
            "value": "100%"
          }
        },
        "39716fc5250a4fd684dc29f2cbf9711b": {
          "model_module": "@jupyter-widgets/controls",
          "model_name": "FloatProgressModel",
          "model_module_version": "1.5.0",
          "state": {
            "_dom_classes": [],
            "_model_module": "@jupyter-widgets/controls",
            "_model_module_version": "1.5.0",
            "_model_name": "FloatProgressModel",
            "_view_count": null,
            "_view_module": "@jupyter-widgets/controls",
            "_view_module_version": "1.5.0",
            "_view_name": "ProgressView",
            "bar_style": "success",
            "description": "",
            "description_tooltip": null,
            "layout": "IPY_MODEL_f27791cd5f4d4a0594ed301a3533c5c5",
            "max": 3,
            "min": 0,
            "orientation": "horizontal",
            "style": "IPY_MODEL_f2d250a45ec94e569ee4ec586c1488a3",
            "value": 3
          }
        },
        "f58579b4035a48159808c2b3306c19d9": {
          "model_module": "@jupyter-widgets/controls",
          "model_name": "HTMLModel",
          "model_module_version": "1.5.0",
          "state": {
            "_dom_classes": [],
            "_model_module": "@jupyter-widgets/controls",
            "_model_module_version": "1.5.0",
            "_model_name": "HTMLModel",
            "_view_count": null,
            "_view_module": "@jupyter-widgets/controls",
            "_view_module_version": "1.5.0",
            "_view_name": "HTMLView",
            "description": "",
            "description_tooltip": null,
            "layout": "IPY_MODEL_e9fe0d6ed7a547bc95f031329136e50c",
            "placeholder": "​",
            "style": "IPY_MODEL_bfd64b7225614f948b1e81982d6fbccb",
            "value": " 3/3 [00:00&lt;00:00, 34.60it/s]"
          }
        },
        "6699539ce5ff40b882a22dc62cae2bbf": {
          "model_module": "@jupyter-widgets/base",
          "model_name": "LayoutModel",
          "model_module_version": "1.2.0",
          "state": {
            "_model_module": "@jupyter-widgets/base",
            "_model_module_version": "1.2.0",
            "_model_name": "LayoutModel",
            "_view_count": null,
            "_view_module": "@jupyter-widgets/base",
            "_view_module_version": "1.2.0",
            "_view_name": "LayoutView",
            "align_content": null,
            "align_items": null,
            "align_self": null,
            "border": null,
            "bottom": null,
            "display": null,
            "flex": null,
            "flex_flow": null,
            "grid_area": null,
            "grid_auto_columns": null,
            "grid_auto_flow": null,
            "grid_auto_rows": null,
            "grid_column": null,
            "grid_gap": null,
            "grid_row": null,
            "grid_template_areas": null,
            "grid_template_columns": null,
            "grid_template_rows": null,
            "height": null,
            "justify_content": null,
            "justify_items": null,
            "left": null,
            "margin": null,
            "max_height": null,
            "max_width": null,
            "min_height": null,
            "min_width": null,
            "object_fit": null,
            "object_position": null,
            "order": null,
            "overflow": null,
            "overflow_x": null,
            "overflow_y": null,
            "padding": null,
            "right": null,
            "top": null,
            "visibility": null,
            "width": null
          }
        },
        "0a5a5e222a6a4c12b6a643f88b2af900": {
          "model_module": "@jupyter-widgets/base",
          "model_name": "LayoutModel",
          "model_module_version": "1.2.0",
          "state": {
            "_model_module": "@jupyter-widgets/base",
            "_model_module_version": "1.2.0",
            "_model_name": "LayoutModel",
            "_view_count": null,
            "_view_module": "@jupyter-widgets/base",
            "_view_module_version": "1.2.0",
            "_view_name": "LayoutView",
            "align_content": null,
            "align_items": null,
            "align_self": null,
            "border": null,
            "bottom": null,
            "display": null,
            "flex": null,
            "flex_flow": null,
            "grid_area": null,
            "grid_auto_columns": null,
            "grid_auto_flow": null,
            "grid_auto_rows": null,
            "grid_column": null,
            "grid_gap": null,
            "grid_row": null,
            "grid_template_areas": null,
            "grid_template_columns": null,
            "grid_template_rows": null,
            "height": null,
            "justify_content": null,
            "justify_items": null,
            "left": null,
            "margin": null,
            "max_height": null,
            "max_width": null,
            "min_height": null,
            "min_width": null,
            "object_fit": null,
            "object_position": null,
            "order": null,
            "overflow": null,
            "overflow_x": null,
            "overflow_y": null,
            "padding": null,
            "right": null,
            "top": null,
            "visibility": null,
            "width": null
          }
        },
        "beeeb974032643c7a814d58eef4ea0da": {
          "model_module": "@jupyter-widgets/controls",
          "model_name": "DescriptionStyleModel",
          "model_module_version": "1.5.0",
          "state": {
            "_model_module": "@jupyter-widgets/controls",
            "_model_module_version": "1.5.0",
            "_model_name": "DescriptionStyleModel",
            "_view_count": null,
            "_view_module": "@jupyter-widgets/base",
            "_view_module_version": "1.2.0",
            "_view_name": "StyleView",
            "description_width": ""
          }
        },
        "f27791cd5f4d4a0594ed301a3533c5c5": {
          "model_module": "@jupyter-widgets/base",
          "model_name": "LayoutModel",
          "model_module_version": "1.2.0",
          "state": {
            "_model_module": "@jupyter-widgets/base",
            "_model_module_version": "1.2.0",
            "_model_name": "LayoutModel",
            "_view_count": null,
            "_view_module": "@jupyter-widgets/base",
            "_view_module_version": "1.2.0",
            "_view_name": "LayoutView",
            "align_content": null,
            "align_items": null,
            "align_self": null,
            "border": null,
            "bottom": null,
            "display": null,
            "flex": null,
            "flex_flow": null,
            "grid_area": null,
            "grid_auto_columns": null,
            "grid_auto_flow": null,
            "grid_auto_rows": null,
            "grid_column": null,
            "grid_gap": null,
            "grid_row": null,
            "grid_template_areas": null,
            "grid_template_columns": null,
            "grid_template_rows": null,
            "height": null,
            "justify_content": null,
            "justify_items": null,
            "left": null,
            "margin": null,
            "max_height": null,
            "max_width": null,
            "min_height": null,
            "min_width": null,
            "object_fit": null,
            "object_position": null,
            "order": null,
            "overflow": null,
            "overflow_x": null,
            "overflow_y": null,
            "padding": null,
            "right": null,
            "top": null,
            "visibility": null,
            "width": null
          }
        },
        "f2d250a45ec94e569ee4ec586c1488a3": {
          "model_module": "@jupyter-widgets/controls",
          "model_name": "ProgressStyleModel",
          "model_module_version": "1.5.0",
          "state": {
            "_model_module": "@jupyter-widgets/controls",
            "_model_module_version": "1.5.0",
            "_model_name": "ProgressStyleModel",
            "_view_count": null,
            "_view_module": "@jupyter-widgets/base",
            "_view_module_version": "1.2.0",
            "_view_name": "StyleView",
            "bar_color": null,
            "description_width": ""
          }
        },
        "e9fe0d6ed7a547bc95f031329136e50c": {
          "model_module": "@jupyter-widgets/base",
          "model_name": "LayoutModel",
          "model_module_version": "1.2.0",
          "state": {
            "_model_module": "@jupyter-widgets/base",
            "_model_module_version": "1.2.0",
            "_model_name": "LayoutModel",
            "_view_count": null,
            "_view_module": "@jupyter-widgets/base",
            "_view_module_version": "1.2.0",
            "_view_name": "LayoutView",
            "align_content": null,
            "align_items": null,
            "align_self": null,
            "border": null,
            "bottom": null,
            "display": null,
            "flex": null,
            "flex_flow": null,
            "grid_area": null,
            "grid_auto_columns": null,
            "grid_auto_flow": null,
            "grid_auto_rows": null,
            "grid_column": null,
            "grid_gap": null,
            "grid_row": null,
            "grid_template_areas": null,
            "grid_template_columns": null,
            "grid_template_rows": null,
            "height": null,
            "justify_content": null,
            "justify_items": null,
            "left": null,
            "margin": null,
            "max_height": null,
            "max_width": null,
            "min_height": null,
            "min_width": null,
            "object_fit": null,
            "object_position": null,
            "order": null,
            "overflow": null,
            "overflow_x": null,
            "overflow_y": null,
            "padding": null,
            "right": null,
            "top": null,
            "visibility": null,
            "width": null
          }
        },
        "bfd64b7225614f948b1e81982d6fbccb": {
          "model_module": "@jupyter-widgets/controls",
          "model_name": "DescriptionStyleModel",
          "model_module_version": "1.5.0",
          "state": {
            "_model_module": "@jupyter-widgets/controls",
            "_model_module_version": "1.5.0",
            "_model_name": "DescriptionStyleModel",
            "_view_count": null,
            "_view_module": "@jupyter-widgets/base",
            "_view_module_version": "1.2.0",
            "_view_name": "StyleView",
            "description_width": ""
          }
        }
      }
    }
  },
  "cells": [
    {
      "cell_type": "markdown",
      "metadata": {
        "id": "view-in-github",
        "colab_type": "text"
      },
      "source": [
        "<a href=\"https://colab.research.google.com/github/NikitaRA/EDA/blob/main/Copy_of_Audio_Classification_on_Keyword_Spotting.ipynb\" target=\"_parent\"><img src=\"https://colab.research.google.com/assets/colab-badge.svg\" alt=\"Open In Colab\"/></a>"
      ]
    },
    {
      "cell_type": "markdown",
      "metadata": {
        "id": "g4JTHJ-IATho"
      },
      "source": [
        "# **Fine-tuning for Audio Classification with 🤗 Transformers**"
      ]
    },
    {
      "cell_type": "markdown",
      "metadata": {
        "id": "o-CI6ON8AMcc"
      },
      "source": [
        "This notebook shows how to fine-tune multi-lingual pretrained speech models for Automatic Speech Recognition."
      ]
    },
    {
      "cell_type": "markdown",
      "metadata": {
        "id": "pdcMxVGEA9Cd"
      },
      "source": [
        "This notebook is built to run on the **Keyword Spotting** subset of the [SUPERB dataset](https://huggingface.co/datasets/superb) with any speech model checkpoint from the [Model Hub](https://huggingface.co/models?pipeline_tag=automatic-speech-recognition&sort=downloads) as long as that model has a version with a Sequence Classification head (e.g. [Wav2Vec2ForSequenceClassification](https://huggingface.co/transformers/model_doc/wav2vec2.html#wav2vec2forsequenceclassification)). \n",
        "\n",
        "Depending on the model and the GPU you are using, you might need to adjust the batch size to avoid out-of-memory errors. Set those two parameters, then the rest of the notebook should run smoothly:"
      ]
    },
    {
      "cell_type": "code",
      "metadata": {
        "id": "5WMEawzyCEyG"
      },
      "source": [
        "model_checkpoint = \"facebook/wav2vec2-base\"\n",
        "batch_size = 32"
      ],
      "execution_count": 1,
      "outputs": []
    },
    {
      "cell_type": "markdown",
      "metadata": {
        "id": "NlArTG8KChJf"
      },
      "source": [
        "Before we start, let's install both `datasets` and `transformers` from master. Also, we need the `librosa` package to load audio files."
      ]
    },
    {
      "cell_type": "code",
      "metadata": {
        "id": "L1532RVbJgQV"
      },
      "source": [
        "%%capture\n",
        "!pip install datasets==1.14\n",
        "!pip install transformers==4.11.3\n",
        "!pip install librosa"
      ],
      "execution_count": 2,
      "outputs": []
    },
    {
      "cell_type": "markdown",
      "metadata": {
        "id": "snZ1tmaOC412"
      },
      "source": [
        "If you're opening this notebook locally, make sure your environment has an install from the last version of those libraries.\n",
        "\n",
        "To be able to share your model with the community and generate results like the one shown in the picture below via the inference API, there are a few more steps to follow.\n",
        "\n",
        "First you have to store your authentication token from the Hugging Face website (sign up [here](https://huggingface.co/join) if you haven't already!) then execute the following cell and input your username and password:"
      ]
    },
    {
      "cell_type": "code",
      "metadata": {
        "id": "Bkpk_JPlCww8",
        "colab": {
          "base_uri": "https://localhost:8080/",
          "height": 239,
          "referenced_widgets": [
            "5bcadbe817494febb5ff5006cb9b4a11",
            "8f91819470834f5b8b0d27496cac63fc",
            "b48cf700be0144e3b6ff2d344d410d1f",
            "68df615880fa47b88bf589687f6bc4e9",
            "f83d71c147324d95b7820c397d28b29c",
            "77f1780384c94298af2d40264bd01c6e",
            "649166f256e14392b50b1c9bbc57a1dc",
            "d54ffbbcdabb44ca821a4147bc13a270",
            "8326f52202e94ae0ac06e4fb41ae2ea9",
            "4e228fbb456e4351b8e5fbdaf7a0fb7d",
            "829bf8aace624bc79130bf412115e594",
            "1855f7a9cf3c4ecaa624ff5938838d43",
            "2d58f0d4b8ff4c99b727a91eabe273c4",
            "4ec0a61b42af4ff19ee07866c0dc4035",
            "1403d83de467401baa9206d2585f6ba7",
            "dfdd193ca08b4e4eb2faf550e09b6c5c"
          ]
        },
        "outputId": "dc1bb844-077e-49ca-cc07-fecf246dd937"
      },
      "source": [
        "from huggingface_hub import notebook_login\n",
        "\n",
        "notebook_login()"
      ],
      "execution_count": 3,
      "outputs": [
        {
          "output_type": "display_data",
          "data": {
            "text/plain": [
              "VBox(children=(HTML(value=\"<center>\\n<img src=https://huggingface.co/front/assets/huggingface_logo-noborder.sv…"
            ],
            "application/vnd.jupyter.widget-view+json": {
              "version_major": 2,
              "version_minor": 0,
              "model_id": "5bcadbe817494febb5ff5006cb9b4a11"
            }
          },
          "metadata": {}
        }
      ]
    },
    {
      "cell_type": "markdown",
      "metadata": {
        "id": "JJ0986jTDZRC"
      },
      "source": [
        "\n",
        "Then you need to install Git-LFS to upload your model checkpoints:"
      ]
    },
    {
      "cell_type": "code",
      "metadata": {
        "id": "t7JEhLjDDcVd"
      },
      "source": [
        "%%capture\n",
        "!apt install git-lfs"
      ],
      "execution_count": 4,
      "outputs": []
    },
    {
      "cell_type": "markdown",
      "metadata": {
        "id": "XalxdrirGkLl"
      },
      "source": [
        "## Fine-tuning a model on an audio classification task"
      ]
    },
    {
      "cell_type": "markdown",
      "metadata": {
        "id": "cnRWZSq0GRRh"
      },
      "source": [
        "In this notebook, we will see how to fine-tune one of the [🤗 Transformers](https://github.com/huggingface/transformers) acoustic models to a Keyword Spotting task of the [SUPERB Benchmark](https://superbbenchmark.org/)\n",
        "\n",
        "Keyword Spotting (KS) detects preregistered keywords by classifying utterances into a predefined set of words. SUPERB uses the widely used Speech Commands dataset v1.0 for the task. The dataset consists of ten classes of keywords, a class for silence, and an unknown class to include the false positive. "
      ]
    },
    {
      "cell_type": "markdown",
      "metadata": {
        "id": "lu8Od7EgFLwe"
      },
      "source": [
        "<img src=\"data:image/png;base64,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\" alt=\"drawing\" width=\"400\"/>"
      ]
    },
    {
      "cell_type": "markdown",
      "metadata": {
        "id": "mcE455KaG687"
      },
      "source": [
        "### Loading the dataset"
      ]
    },
    {
      "cell_type": "markdown",
      "metadata": {
        "id": "RD_G2KJgG_bU"
      },
      "source": [
        "We will use the [🤗 Datasets](https://github.com/huggingface/datasets) library to download the data and get the Accuracy metric we need to use for evaluation. This can be easily done with the functions `load_dataset` and `load_metric`.  "
      ]
    },
    {
      "cell_type": "code",
      "metadata": {
        "id": "fhVQU42BLd3p"
      },
      "source": [
        "from datasets import load_dataset, load_metric"
      ],
      "execution_count": 5,
      "outputs": []
    },
    {
      "cell_type": "code",
      "metadata": {
        "colab": {
          "base_uri": "https://localhost:8080/",
          "height": 67,
          "referenced_widgets": [
            "7e8345b02d95411ba645686ebdadff59",
            "5c6ae007285f4cf2b628d6bc022093d6",
            "39716fc5250a4fd684dc29f2cbf9711b",
            "f58579b4035a48159808c2b3306c19d9",
            "6699539ce5ff40b882a22dc62cae2bbf",
            "0a5a5e222a6a4c12b6a643f88b2af900",
            "beeeb974032643c7a814d58eef4ea0da",
            "f27791cd5f4d4a0594ed301a3533c5c5",
            "f2d250a45ec94e569ee4ec586c1488a3",
            "e9fe0d6ed7a547bc95f031329136e50c",
            "bfd64b7225614f948b1e81982d6fbccb"
          ]
        },
        "id": "8UGse36eLeeb",
        "outputId": "80739fc5-9cfc-4a4b-8c0d-e11a2e729d71"
      },
      "source": [
        "dataset = load_dataset(\"superb\", \"ks\")\n",
        "metric = load_metric(\"accuracy\")"
      ],
      "execution_count": 6,
      "outputs": [
        {
          "output_type": "stream",
          "name": "stderr",
          "text": [
            "Reusing dataset superb (/root/.cache/huggingface/datasets/superb/ks/1.9.0/ce836692657f82230c16b3bbcb93eaacdbfd7de4def3be90016f112d68683481)\n"
          ]
        },
        {
          "output_type": "display_data",
          "data": {
            "text/plain": [
              "  0%|          | 0/3 [00:00<?, ?it/s]"
            ],
            "application/vnd.jupyter.widget-view+json": {
              "version_major": 2,
              "version_minor": 0,
              "model_id": "7e8345b02d95411ba645686ebdadff59"
            }
          },
          "metadata": {}
        }
      ]
    },
    {
      "cell_type": "markdown",
      "metadata": {
        "id": "r8mTmFdlHOmN"
      },
      "source": [
        "The `dataset` object itself is a [`DatasetDict`](https://huggingface.co/docs/datasets/package_reference/main_classes.html#datasetdict), which contains one key for the training, validation and test set."
      ]
    },
    {
      "cell_type": "code",
      "metadata": {
        "colab": {
          "base_uri": "https://localhost:8080/"
        },
        "id": "7tjOWPQYLq4u",
        "outputId": "2c68e7b1-754a-419d-d627-ca9147725d80"
      },
      "source": [
        "dataset"
      ],
      "execution_count": 7,
      "outputs": [
        {
          "output_type": "execute_result",
          "data": {
            "text/plain": [
              "DatasetDict({\n",
              "    train: Dataset({\n",
              "        features: ['file', 'audio', 'label'],\n",
              "        num_rows: 51094\n",
              "    })\n",
              "    validation: Dataset({\n",
              "        features: ['file', 'audio', 'label'],\n",
              "        num_rows: 6798\n",
              "    })\n",
              "    test: Dataset({\n",
              "        features: ['file', 'audio', 'label'],\n",
              "        num_rows: 3081\n",
              "    })\n",
              "})"
            ]
          },
          "metadata": {},
          "execution_count": 7
        }
      ]
    },
    {
      "cell_type": "markdown",
      "metadata": {
        "id": "nfPPNjthI3u2"
      },
      "source": [
        "To access an actual element, you need to select a split first, then give an index:"
      ]
    },
    {
      "cell_type": "code",
      "metadata": {
        "colab": {
          "base_uri": "https://localhost:8080/"
        },
        "id": "BujWoSgyMQlw",
        "outputId": "75a44110-feba-4f41-d0fe-9ff4f435c709"
      },
      "source": [
        "dataset[\"test\"][1000]['audio']['array'].shape"
      ],
      "execution_count": 8,
      "outputs": [
        {
          "output_type": "execute_result",
          "data": {
            "text/plain": [
              "(16000,)"
            ]
          },
          "metadata": {},
          "execution_count": 8
        }
      ]
    },
    {
      "cell_type": "markdown",
      "metadata": {
        "id": "f8GpxwfnJCkF"
      },
      "source": [
        "As you can see, the `label` field is not an actual string label. By default the `ClassLabel` fields are encoded into integers for convenience:"
      ]
    },
    {
      "cell_type": "code",
      "metadata": {
        "colab": {
          "base_uri": "https://localhost:8080/"
        },
        "id": "n33LZz_ZMU3o",
        "outputId": "3b647663-ea1f-4f9b-af87-e2f3a5ae836e"
      },
      "source": [
        "dataset[\"train\"].features[\"label\"]"
      ],
      "execution_count": 9,
      "outputs": [
        {
          "output_type": "execute_result",
          "data": {
            "text/plain": [
              "ClassLabel(num_classes=12, names=['yes', 'no', 'up', 'down', 'left', 'right', 'on', 'off', 'stop', 'go', '_silence_', '_unknown_'], names_file=None, id=None)"
            ]
          },
          "metadata": {},
          "execution_count": 9
        }
      ]
    },
    {
      "cell_type": "markdown",
      "metadata": {
        "id": "5LdpDtScLgeD"
      },
      "source": [
        "Let's create an `id2label` dictionary to decode them back to strings and see what they are. The inverse `label2id` will be useful too, when we load the model later."
      ]
    },
    {
      "cell_type": "code",
      "metadata": {
        "colab": {
          "base_uri": "https://localhost:8080/",
          "height": 36
        },
        "id": "UuyXDtQqNUZW",
        "outputId": "248631b4-ad47-4b13-cf53-e296f5b25bb8"
      },
      "source": [
        "labels = dataset[\"train\"].features[\"label\"].names\n",
        "label2id, id2label = dict(), dict()\n",
        "for i, label in enumerate(labels):\n",
        "    label2id[label] = str(i)\n",
        "    id2label[str(i)] = label\n",
        "\n",
        "id2label[\"9\"]"
      ],
      "execution_count": 10,
      "outputs": [
        {
          "output_type": "execute_result",
          "data": {
            "text/plain": [
              "'go'"
            ],
            "application/vnd.google.colaboratory.intrinsic+json": {
              "type": "string"
            }
          },
          "metadata": {},
          "execution_count": 10
        }
      ]
    },
    {
      "cell_type": "markdown",
      "metadata": {
        "id": "GD7wBXeIltx0"
      },
      "source": [
        "`Wav2Vec2` expects the input in the format of a 1-dimensional array of 16 kHz. This means that the audio file has to be loaded and resampled.\n",
        "\n",
        " Thankfully, `datasets` does this automatically when calling the column `audio`. Let try it out. "
      ]
    },
    {
      "cell_type": "code",
      "metadata": {
        "colab": {
          "base_uri": "https://localhost:8080/"
        },
        "id": "UKIaV1ndl0j6",
        "outputId": "b88684d3-3a40-4bed-ccca-05f98e638268"
      },
      "source": [
        "dataset[\"test\"][1000][\"audio\"]"
      ],
      "execution_count": 11,
      "outputs": [
        {
          "output_type": "execute_result",
          "data": {
            "text/plain": [
              "{'array': array([-1.2207031e-04,  3.0517578e-05,  1.8310547e-04, ...,\n",
              "        -4.8828125e-04, -5.4931641e-04, -3.3569336e-04], dtype=float32),\n",
              " 'path': '/root/.cache/huggingface/datasets/downloads/extracted/94c69f12cc18539f842ccec832347d0f85a3424c14bc47bd63902105ba1b2391/go/e41a903b_nohash_4.wav',\n",
              " 'sampling_rate': 16000}"
            ]
          },
          "metadata": {},
          "execution_count": 11
        }
      ]
    },
    {
      "cell_type": "markdown",
      "metadata": {
        "id": "eEfxyaatlzU-"
      },
      "source": [
        "We can see that the audio file has automatically been loaded. This is thanks to the new [`\"Audio\"` feature](https://huggingface.co/docs/datasets/package_reference/main_classes.html?highlight=audio#datasets.Audio) introduced in `datasets == 1.13.3`, which loads and resamples audio files on-the-fly upon calling.\n",
        "\n",
        "The sampling rate is set to 16kHz which is what `Wav2Vec2` expects as an input."
      ]
    },
    {
      "cell_type": "markdown",
      "metadata": {
        "id": "TSvqeGihJvp4"
      },
      "source": [
        "To get a sense of what the commands sound like, the following snippet will render \n",
        "some audio examples picked randomly from the dataset. \n",
        "\n",
        "**Note**: *You can run the following cell a couple of times to listen to different audio samples.*"
      ]
    },
    {
      "cell_type": "code",
      "metadata": {
        "colab": {
          "base_uri": "https://localhost:8080/",
          "height": 515
        },
        "id": "RI0kb4woNvuU",
        "outputId": "4555c8a8-ba19-4b6e-e675-d6ecc8fb2c25"
      },
      "source": [
        "import random\n",
        "from IPython.display import Audio, display\n",
        "\n",
        "for _ in range(5):\n",
        "    rand_idx = random.randint(0, len(dataset[\"train\"])-1)\n",
        "    example = dataset[\"train\"][rand_idx]\n",
        "    audio = example[\"audio\"]\n",
        "\n",
        "    print(f'Label: {id2label[str(example[\"label\"])]}')\n",
        "    print(f'Shape: {audio[\"array\"].shape}, sampling rate: {audio[\"sampling_rate\"]}')\n",
        "    display(Audio(audio[\"array\"], rate=audio[\"sampling_rate\"]))\n",
        "    print()"
      ],
      "execution_count": 12,
      "outputs": [
        {
          "output_type": "stream",
          "name": "stdout",
          "text": [
            "Label: _unknown_\n",
            "Shape: (12632,), sampling rate: 16000\n"
          ]
        },
        {
          "output_type": "display_data",
          "data": {
            "text/plain": [
              "<IPython.lib.display.Audio object>"
            ],
            "text/html": [
              "\n",
              "                <audio controls=\"controls\" >\n",
              "                    <source src=\"data:audio/wav;base64,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\" type=\"audio/wav\" />\n",
              "                    Your browser does not support the audio element.\n",
              "                </audio>\n",
              "              "
            ]
          },
          "metadata": {}
        },
        {
          "output_type": "stream",
          "name": "stdout",
          "text": [
            "\n",
            "Label: left\n",
            "Shape: (14118,), sampling rate: 16000\n"
          ]
        },
        {
          "output_type": "display_data",
          "data": {
            "text/plain": [
              "<IPython.lib.display.Audio object>"
            ],
            "text/html": [
              "\n",
              "                <audio controls=\"controls\" >\n",
              "                    <source src=\"data:audio/wav;base64,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\" type=\"audio/wav\" />\n",
              "                    Your browser does not support the audio element.\n",
              "                </audio>\n",
              "              "
            ]
          },
          "metadata": {}
        },
        {
          "output_type": "stream",
          "name": "stdout",
          "text": [
            "\n",
            "Label: on\n",
            "Shape: (16000,), sampling rate: 16000\n"
          ]
        },
        {
          "output_type": "display_data",
          "data": {
            "text/plain": [
              "<IPython.lib.display.Audio object>"
            ],
            "text/html": [
              "\n",
              "                <audio controls=\"controls\" >\n",
              "                    <source src=\"data:audio/wav;base64,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\" type=\"audio/wav\" />\n",
              "                    Your browser does not support the audio element.\n",
              "                </audio>\n",
              "              "
            ]
          },
          "metadata": {}
        },
        {
          "output_type": "stream",
          "name": "stdout",
          "text": [
            "\n",
            "Label: off\n",
            "Shape: (14336,), sampling rate: 16000\n"
          ]
        },
        {
          "output_type": "display_data",
          "data": {
            "text/plain": [
              "<IPython.lib.display.Audio object>"
            ],
            "text/html": [
              "\n",
              "                <audio controls=\"controls\" >\n",
              "                    <source src=\"data:audio/wav;base64,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\" type=\"audio/wav\" />\n",
              "                    Your browser does not support the audio element.\n",
              "                </audio>\n",
              "              "
            ]
          },
          "metadata": {}
        },
        {
          "output_type": "stream",
          "name": "stdout",
          "text": [
            "\n",
            "Label: go\n",
            "Shape: (16000,), sampling rate: 16000\n"
          ]
        },
        {
          "output_type": "display_data",
          "data": {
            "text/plain": [
              "<IPython.lib.display.Audio object>"
            ],
            "text/html": [
              "\n",
              "                <audio controls=\"controls\" >\n",
              "                    <source src=\"data:audio/wav;base64,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\" type=\"audio/wav\" />\n",
              "                    Your browser does not support the audio element.\n",
              "                </audio>\n",
              "              "
            ]
          },
          "metadata": {}
        },
        {
          "output_type": "stream",
          "name": "stdout",
          "text": [
            "\n"
          ]
        }
      ]
    },
    {
      "cell_type": "markdown",
      "metadata": {
        "id": "37K_0FAQoNRM"
      },
      "source": [
        "If you run the cell a couple of times, you'll see that despite slight variations in length, most of the samples are about 1 second long (`duration = audio_length / sampling_rate`). So we can safely truncate and pad the samples to `16000`."
      ]
    },
    {
      "cell_type": "markdown",
      "metadata": {
        "id": "4zxoikSOjs0K"
      },
      "source": [
        "### Preprocessing the data"
      ]
    },
    {
      "cell_type": "markdown",
      "metadata": {
        "id": "WTupOU88p1lK"
      },
      "source": [
        "Before we can feed those audio clips to our model, we need to preprocess them. This is done by a 🤗 Transformers `FeatureExtractor` which will normalize the inputs and put them in a format the model expects, as well as generate the other inputs that the model requires.\n",
        "\n",
        "To do all of this, we instantiate our feature extractor with the `AutoFeatureExtractor.from_pretrained` method, which will ensure that we get a preprocessor that corresponds to the model architecture we want to use."
      ]
    },
    {
      "cell_type": "code",
      "metadata": {
        "colab": {
          "base_uri": "https://localhost:8080/"
        },
        "id": "G1bX4lGAO_d9",
        "outputId": "c4fc4faf-169a-47fb-902f-86ee2679caa3"
      },
      "source": [
        "from transformers import AutoFeatureExtractor\n",
        "\n",
        "feature_extractor = AutoFeatureExtractor.from_pretrained(model_checkpoint)\n",
        "feature_extractor"
      ],
      "execution_count": 13,
      "outputs": [
        {
          "output_type": "stream",
          "name": "stderr",
          "text": [
            "/usr/local/lib/python3.7/dist-packages/transformers/configuration_utils.py:337: UserWarning: Passing `gradient_checkpointing` to a config initialization is deprecated and will be removed in v5 Transformers. Using `model.gradient_checkpointing_enable()` instead, or if you are using the `Trainer` API, pass `gradient_checkpointing=True` in your `TrainingArguments`.\n",
            "  \"Passing `gradient_checkpointing` to a config initialization is deprecated and will be removed in v5 \"\n"
          ]
        },
        {
          "output_type": "execute_result",
          "data": {
            "text/plain": [
              "Wav2Vec2FeatureExtractor {\n",
              "  \"do_normalize\": true,\n",
              "  \"feature_extractor_type\": \"Wav2Vec2FeatureExtractor\",\n",
              "  \"feature_size\": 1,\n",
              "  \"padding_side\": \"right\",\n",
              "  \"padding_value\": 0.0,\n",
              "  \"return_attention_mask\": false,\n",
              "  \"sampling_rate\": 16000\n",
              "}"
            ]
          },
          "metadata": {},
          "execution_count": 13
        }
      ]
    },
    {
      "cell_type": "markdown",
      "metadata": {
        "id": "-zYhYOuDL9XP"
      },
      "source": [
        "As we've noticed earlier, the samples are roughly 1 second long, so let's set it here:"
      ]
    },
    {
      "cell_type": "code",
      "metadata": {
        "id": "wX35xSLx-ghC"
      },
      "source": [
        "max_duration = 1.0  # seconds"
      ],
      "execution_count": 14,
      "outputs": []
    },
    {
      "cell_type": "markdown",
      "metadata": {
        "id": "qUtxmoMvqml1"
      },
      "source": [
        "We can then write the function that will preprocess our samples. We just feed them to the `feature_extractor` with the argument `truncation=True`, as well as the maximum sample length. This will ensure that very long inputs like the ones in the `_silence_` class can be safely batched."
      ]
    },
    {
      "cell_type": "code",
      "metadata": {
        "id": "4O_p3WrpRyej"
      },
      "source": [
        "def preprocess_function(examples):\n",
        "    audio_arrays = [x[\"array\"] for x in examples[\"audio\"]]\n",
        "    inputs = feature_extractor(\n",
        "        audio_arrays, \n",
        "        sampling_rate=feature_extractor.sampling_rate, \n",
        "        max_length=int(feature_extractor.sampling_rate * max_duration), \n",
        "        truncation=True, \n",
        "    )\n",
        "    return inputs"
      ],
      "execution_count": 15,
      "outputs": []
    },
    {
      "cell_type": "markdown",
      "metadata": {
        "id": "OlbYCcVZ4hHu"
      },
      "source": [
        "The feature extractor will return a list of numpy arays for each example:"
      ]
    },
    {
      "cell_type": "code",
      "metadata": {
        "colab": {
          "base_uri": "https://localhost:8080/"
        },
        "id": "qGUvcAlAqKy-",
        "outputId": "d33bb6f4-25a4-4172-b6c6-56808fdcf16f"
      },
      "source": [
        "preprocess_function(dataset['train'][:5])['input_values'][0].shape"
      ],
      "execution_count": 16,
      "outputs": [
        {
          "output_type": "execute_result",
          "data": {
            "text/plain": [
              "(16000,)"
            ]
          },
          "metadata": {},
          "execution_count": 16
        }
      ]
    },
    {
      "cell_type": "markdown",
      "metadata": {
        "id": "a1Nw4FwN5wCS"
      },
      "source": [
        "To apply this function on all utterances in our dataset, we just use the `map` method of our `dataset` object we created earlier. This will apply the function on all the elements of all the splits in `dataset`, so our training, validation and testing data will be preprocessed in one single command."
      ]
    },
    {
      "cell_type": "code",
      "metadata": {
        "colab": {
          "base_uri": "https://localhost:8080/"
        },
        "id": "FfxFgJ_6qPPy",
        "outputId": "86eda677-5ac4-4b75-b1c7-2f705a333503"
      },
      "source": [
        "encoded_dataset = dataset.map(preprocess_function, remove_columns=[\"audio\", \"file\"], batched=True)\n",
        "encoded_dataset"
      ],
      "execution_count": 17,
      "outputs": [
        {
          "output_type": "stream",
          "name": "stderr",
          "text": [
            "Loading cached processed dataset at /root/.cache/huggingface/datasets/superb/ks/1.9.0/ce836692657f82230c16b3bbcb93eaacdbfd7de4def3be90016f112d68683481/cache-85174773a4d61317.arrow\n",
            "Loading cached processed dataset at /root/.cache/huggingface/datasets/superb/ks/1.9.0/ce836692657f82230c16b3bbcb93eaacdbfd7de4def3be90016f112d68683481/cache-6b34ba9a20795a13.arrow\n",
            "Loading cached processed dataset at /root/.cache/huggingface/datasets/superb/ks/1.9.0/ce836692657f82230c16b3bbcb93eaacdbfd7de4def3be90016f112d68683481/cache-2b129ced6cb1bee2.arrow\n"
          ]
        },
        {
          "output_type": "execute_result",
          "data": {
            "text/plain": [
              "DatasetDict({\n",
              "    train: Dataset({\n",
              "        features: ['input_values', 'label'],\n",
              "        num_rows: 51094\n",
              "    })\n",
              "    validation: Dataset({\n",
              "        features: ['input_values', 'label'],\n",
              "        num_rows: 6798\n",
              "    })\n",
              "    test: Dataset({\n",
              "        features: ['input_values', 'label'],\n",
              "        num_rows: 3081\n",
              "    })\n",
              "})"
            ]
          },
          "metadata": {},
          "execution_count": 17
        }
      ]
    },
    {
      "cell_type": "markdown",
      "metadata": {
        "id": "c0OwX3Es580y"
      },
      "source": [
        "Even better, the results are automatically cached by the 🤗 Datasets library to avoid spending time on this step the next time you run your notebook. The 🤗 Datasets library is normally smart enough to detect when the function you pass to map has changed (and thus requires to not use the cache data). 🤗 Datasets warns you when it uses cached files, you can pass `load_from_cache_file=False` in the call to `map` to not use the cached files and force the preprocessing to be applied again."
      ]
    },
    {
      "cell_type": "markdown",
      "metadata": {
        "id": "HOXmyPQ76Qv9"
      },
      "source": [
        "### Training the model"
      ]
    },
    {
      "cell_type": "markdown",
      "metadata": {
        "id": "0a-2YT7O6ayC"
      },
      "source": [
        "Now that our data is ready, we can download the pretrained model and fine-tune it. For classification we use the `AutoModelForAudioClassification` class. Like with the feature extractor, the `from_pretrained` method will download and cache the model for us. As the label ids and the number of labels are dataset dependent, we pass `num_labels`, `label2id`, and `id2label` alongside the `model_checkpoint` here:"
      ]
    },
    {
      "cell_type": "code",
      "metadata": {
        "id": "X9DDujL0q1ac",
        "colab": {
          "base_uri": "https://localhost:8080/"
        },
        "outputId": "6be169cb-be5d-4436-8f95-fdd4d5e6f547"
      },
      "source": [
        "from transformers import AutoModelForAudioClassification, TrainingArguments, Trainer\n",
        "\n",
        "num_labels = len(id2label)\n",
        "model = AutoModelForAudioClassification.from_pretrained(\n",
        "    model_checkpoint, \n",
        "    num_labels=num_labels,\n",
        "    label2id=label2id,\n",
        "    id2label=id2label,\n",
        ")\n"
      ],
      "execution_count": 18,
      "outputs": [
        {
          "output_type": "stream",
          "name": "stderr",
          "text": [
            "/usr/local/lib/python3.7/dist-packages/transformers/configuration_utils.py:337: UserWarning: Passing `gradient_checkpointing` to a config initialization is deprecated and will be removed in v5 Transformers. Using `model.gradient_checkpointing_enable()` instead, or if you are using the `Trainer` API, pass `gradient_checkpointing=True` in your `TrainingArguments`.\n",
            "  \"Passing `gradient_checkpointing` to a config initialization is deprecated and will be removed in v5 \"\n",
            "Some weights of the model checkpoint at facebook/wav2vec2-base were not used when initializing Wav2Vec2ForSequenceClassification: ['quantizer.codevectors', 'project_hid.weight', 'project_q.bias', 'project_q.weight', 'quantizer.weight_proj.bias', 'quantizer.weight_proj.weight', 'project_hid.bias']\n",
            "- This IS expected if you are initializing Wav2Vec2ForSequenceClassification from the checkpoint of a model trained on another task or with another architecture (e.g. initializing a BertForSequenceClassification model from a BertForPreTraining model).\n",
            "- This IS NOT expected if you are initializing Wav2Vec2ForSequenceClassification from the checkpoint of a model that you expect to be exactly identical (initializing a BertForSequenceClassification model from a BertForSequenceClassification model).\n",
            "Some weights of Wav2Vec2ForSequenceClassification were not initialized from the model checkpoint at facebook/wav2vec2-base and are newly initialized: ['classifier.bias', 'projector.weight', 'projector.bias', 'classifier.weight']\n",
            "You should probably TRAIN this model on a down-stream task to be able to use it for predictions and inference.\n"
          ]
        }
      ]
    },
    {
      "cell_type": "code",
      "source": [
        "model"
      ],
      "metadata": {
        "colab": {
          "base_uri": "https://localhost:8080/"
        },
        "id": "z7zPKLJHKRPT",
        "outputId": "09782da8-7711-4ce9-8745-9f1061a3863a"
      },
      "execution_count": 19,
      "outputs": [
        {
          "output_type": "execute_result",
          "data": {
            "text/plain": [
              "Wav2Vec2ForSequenceClassification(\n",
              "  (wav2vec2): Wav2Vec2Model(\n",
              "    (feature_extractor): Wav2Vec2FeatureExtractor(\n",
              "      (conv_layers): ModuleList(\n",
              "        (0): Wav2Vec2GroupNormConvLayer(\n",
              "          (conv): Conv1d(1, 512, kernel_size=(10,), stride=(5,), bias=False)\n",
              "          (layer_norm): GroupNorm(512, 512, eps=1e-05, affine=True)\n",
              "        )\n",
              "        (1): Wav2Vec2NoLayerNormConvLayer(\n",
              "          (conv): Conv1d(512, 512, kernel_size=(3,), stride=(2,), bias=False)\n",
              "        )\n",
              "        (2): Wav2Vec2NoLayerNormConvLayer(\n",
              "          (conv): Conv1d(512, 512, kernel_size=(3,), stride=(2,), bias=False)\n",
              "        )\n",
              "        (3): Wav2Vec2NoLayerNormConvLayer(\n",
              "          (conv): Conv1d(512, 512, kernel_size=(3,), stride=(2,), bias=False)\n",
              "        )\n",
              "        (4): Wav2Vec2NoLayerNormConvLayer(\n",
              "          (conv): Conv1d(512, 512, kernel_size=(3,), stride=(2,), bias=False)\n",
              "        )\n",
              "        (5): Wav2Vec2NoLayerNormConvLayer(\n",
              "          (conv): Conv1d(512, 512, kernel_size=(2,), stride=(2,), bias=False)\n",
              "        )\n",
              "        (6): Wav2Vec2NoLayerNormConvLayer(\n",
              "          (conv): Conv1d(512, 512, kernel_size=(2,), stride=(2,), bias=False)\n",
              "        )\n",
              "      )\n",
              "    )\n",
              "    (feature_projection): Wav2Vec2FeatureProjection(\n",
              "      (layer_norm): LayerNorm((512,), eps=1e-05, elementwise_affine=True)\n",
              "      (projection): Linear(in_features=512, out_features=768, bias=True)\n",
              "      (dropout): Dropout(p=0.1, inplace=False)\n",
              "    )\n",
              "    (encoder): Wav2Vec2Encoder(\n",
              "      (pos_conv_embed): Wav2Vec2PositionalConvEmbedding(\n",
              "        (conv): Conv1d(768, 768, kernel_size=(128,), stride=(1,), padding=(64,), groups=16)\n",
              "        (padding): Wav2Vec2SamePadLayer()\n",
              "      )\n",
              "      (layer_norm): LayerNorm((768,), eps=1e-05, elementwise_affine=True)\n",
              "      (dropout): Dropout(p=0.1, inplace=False)\n",
              "      (layers): ModuleList(\n",
              "        (0): Wav2Vec2EncoderLayer(\n",
              "          (attention): Wav2Vec2Attention(\n",
              "            (k_proj): Linear(in_features=768, out_features=768, bias=True)\n",
              "            (v_proj): Linear(in_features=768, out_features=768, bias=True)\n",
              "            (q_proj): Linear(in_features=768, out_features=768, bias=True)\n",
              "            (out_proj): Linear(in_features=768, out_features=768, bias=True)\n",
              "          )\n",
              "          (dropout): Dropout(p=0.1, inplace=False)\n",
              "          (layer_norm): LayerNorm((768,), eps=1e-05, elementwise_affine=True)\n",
              "          (feed_forward): Wav2Vec2FeedForward(\n",
              "            (intermediate_dropout): Dropout(p=0.0, inplace=False)\n",
              "            (intermediate_dense): Linear(in_features=768, out_features=3072, bias=True)\n",
              "            (output_dense): Linear(in_features=3072, out_features=768, bias=True)\n",
              "            (output_dropout): Dropout(p=0.1, inplace=False)\n",
              "          )\n",
              "          (final_layer_norm): LayerNorm((768,), eps=1e-05, elementwise_affine=True)\n",
              "        )\n",
              "        (1): Wav2Vec2EncoderLayer(\n",
              "          (attention): Wav2Vec2Attention(\n",
              "            (k_proj): Linear(in_features=768, out_features=768, bias=True)\n",
              "            (v_proj): Linear(in_features=768, out_features=768, bias=True)\n",
              "            (q_proj): Linear(in_features=768, out_features=768, bias=True)\n",
              "            (out_proj): Linear(in_features=768, out_features=768, bias=True)\n",
              "          )\n",
              "          (dropout): Dropout(p=0.1, inplace=False)\n",
              "          (layer_norm): LayerNorm((768,), eps=1e-05, elementwise_affine=True)\n",
              "          (feed_forward): Wav2Vec2FeedForward(\n",
              "            (intermediate_dropout): Dropout(p=0.0, inplace=False)\n",
              "            (intermediate_dense): Linear(in_features=768, out_features=3072, bias=True)\n",
              "            (output_dense): Linear(in_features=3072, out_features=768, bias=True)\n",
              "            (output_dropout): Dropout(p=0.1, inplace=False)\n",
              "          )\n",
              "          (final_layer_norm): LayerNorm((768,), eps=1e-05, elementwise_affine=True)\n",
              "        )\n",
              "        (2): Wav2Vec2EncoderLayer(\n",
              "          (attention): Wav2Vec2Attention(\n",
              "            (k_proj): Linear(in_features=768, out_features=768, bias=True)\n",
              "            (v_proj): Linear(in_features=768, out_features=768, bias=True)\n",
              "            (q_proj): Linear(in_features=768, out_features=768, bias=True)\n",
              "            (out_proj): Linear(in_features=768, out_features=768, bias=True)\n",
              "          )\n",
              "          (dropout): Dropout(p=0.1, inplace=False)\n",
              "          (layer_norm): LayerNorm((768,), eps=1e-05, elementwise_affine=True)\n",
              "          (feed_forward): Wav2Vec2FeedForward(\n",
              "            (intermediate_dropout): Dropout(p=0.0, inplace=False)\n",
              "            (intermediate_dense): Linear(in_features=768, out_features=3072, bias=True)\n",
              "            (output_dense): Linear(in_features=3072, out_features=768, bias=True)\n",
              "            (output_dropout): Dropout(p=0.1, inplace=False)\n",
              "          )\n",
              "          (final_layer_norm): LayerNorm((768,), eps=1e-05, elementwise_affine=True)\n",
              "        )\n",
              "        (3): Wav2Vec2EncoderLayer(\n",
              "          (attention): Wav2Vec2Attention(\n",
              "            (k_proj): Linear(in_features=768, out_features=768, bias=True)\n",
              "            (v_proj): Linear(in_features=768, out_features=768, bias=True)\n",
              "            (q_proj): Linear(in_features=768, out_features=768, bias=True)\n",
              "            (out_proj): Linear(in_features=768, out_features=768, bias=True)\n",
              "          )\n",
              "          (dropout): Dropout(p=0.1, inplace=False)\n",
              "          (layer_norm): LayerNorm((768,), eps=1e-05, elementwise_affine=True)\n",
              "          (feed_forward): Wav2Vec2FeedForward(\n",
              "            (intermediate_dropout): Dropout(p=0.0, inplace=False)\n",
              "            (intermediate_dense): Linear(in_features=768, out_features=3072, bias=True)\n",
              "            (output_dense): Linear(in_features=3072, out_features=768, bias=True)\n",
              "            (output_dropout): Dropout(p=0.1, inplace=False)\n",
              "          )\n",
              "          (final_layer_norm): LayerNorm((768,), eps=1e-05, elementwise_affine=True)\n",
              "        )\n",
              "        (4): Wav2Vec2EncoderLayer(\n",
              "          (attention): Wav2Vec2Attention(\n",
              "            (k_proj): Linear(in_features=768, out_features=768, bias=True)\n",
              "            (v_proj): Linear(in_features=768, out_features=768, bias=True)\n",
              "            (q_proj): Linear(in_features=768, out_features=768, bias=True)\n",
              "            (out_proj): Linear(in_features=768, out_features=768, bias=True)\n",
              "          )\n",
              "          (dropout): Dropout(p=0.1, inplace=False)\n",
              "          (layer_norm): LayerNorm((768,), eps=1e-05, elementwise_affine=True)\n",
              "          (feed_forward): Wav2Vec2FeedForward(\n",
              "            (intermediate_dropout): Dropout(p=0.0, inplace=False)\n",
              "            (intermediate_dense): Linear(in_features=768, out_features=3072, bias=True)\n",
              "            (output_dense): Linear(in_features=3072, out_features=768, bias=True)\n",
              "            (output_dropout): Dropout(p=0.1, inplace=False)\n",
              "          )\n",
              "          (final_layer_norm): LayerNorm((768,), eps=1e-05, elementwise_affine=True)\n",
              "        )\n",
              "        (5): Wav2Vec2EncoderLayer(\n",
              "          (attention): Wav2Vec2Attention(\n",
              "            (k_proj): Linear(in_features=768, out_features=768, bias=True)\n",
              "            (v_proj): Linear(in_features=768, out_features=768, bias=True)\n",
              "            (q_proj): Linear(in_features=768, out_features=768, bias=True)\n",
              "            (out_proj): Linear(in_features=768, out_features=768, bias=True)\n",
              "          )\n",
              "          (dropout): Dropout(p=0.1, inplace=False)\n",
              "          (layer_norm): LayerNorm((768,), eps=1e-05, elementwise_affine=True)\n",
              "          (feed_forward): Wav2Vec2FeedForward(\n",
              "            (intermediate_dropout): Dropout(p=0.0, inplace=False)\n",
              "            (intermediate_dense): Linear(in_features=768, out_features=3072, bias=True)\n",
              "            (output_dense): Linear(in_features=3072, out_features=768, bias=True)\n",
              "            (output_dropout): Dropout(p=0.1, inplace=False)\n",
              "          )\n",
              "          (final_layer_norm): LayerNorm((768,), eps=1e-05, elementwise_affine=True)\n",
              "        )\n",
              "        (6): Wav2Vec2EncoderLayer(\n",
              "          (attention): Wav2Vec2Attention(\n",
              "            (k_proj): Linear(in_features=768, out_features=768, bias=True)\n",
              "            (v_proj): Linear(in_features=768, out_features=768, bias=True)\n",
              "            (q_proj): Linear(in_features=768, out_features=768, bias=True)\n",
              "            (out_proj): Linear(in_features=768, out_features=768, bias=True)\n",
              "          )\n",
              "          (dropout): Dropout(p=0.1, inplace=False)\n",
              "          (layer_norm): LayerNorm((768,), eps=1e-05, elementwise_affine=True)\n",
              "          (feed_forward): Wav2Vec2FeedForward(\n",
              "            (intermediate_dropout): Dropout(p=0.0, inplace=False)\n",
              "            (intermediate_dense): Linear(in_features=768, out_features=3072, bias=True)\n",
              "            (output_dense): Linear(in_features=3072, out_features=768, bias=True)\n",
              "            (output_dropout): Dropout(p=0.1, inplace=False)\n",
              "          )\n",
              "          (final_layer_norm): LayerNorm((768,), eps=1e-05, elementwise_affine=True)\n",
              "        )\n",
              "        (7): Wav2Vec2EncoderLayer(\n",
              "          (attention): Wav2Vec2Attention(\n",
              "            (k_proj): Linear(in_features=768, out_features=768, bias=True)\n",
              "            (v_proj): Linear(in_features=768, out_features=768, bias=True)\n",
              "            (q_proj): Linear(in_features=768, out_features=768, bias=True)\n",
              "            (out_proj): Linear(in_features=768, out_features=768, bias=True)\n",
              "          )\n",
              "          (dropout): Dropout(p=0.1, inplace=False)\n",
              "          (layer_norm): LayerNorm((768,), eps=1e-05, elementwise_affine=True)\n",
              "          (feed_forward): Wav2Vec2FeedForward(\n",
              "            (intermediate_dropout): Dropout(p=0.0, inplace=False)\n",
              "            (intermediate_dense): Linear(in_features=768, out_features=3072, bias=True)\n",
              "            (output_dense): Linear(in_features=3072, out_features=768, bias=True)\n",
              "            (output_dropout): Dropout(p=0.1, inplace=False)\n",
              "          )\n",
              "          (final_layer_norm): LayerNorm((768,), eps=1e-05, elementwise_affine=True)\n",
              "        )\n",
              "        (8): Wav2Vec2EncoderLayer(\n",
              "          (attention): Wav2Vec2Attention(\n",
              "            (k_proj): Linear(in_features=768, out_features=768, bias=True)\n",
              "            (v_proj): Linear(in_features=768, out_features=768, bias=True)\n",
              "            (q_proj): Linear(in_features=768, out_features=768, bias=True)\n",
              "            (out_proj): Linear(in_features=768, out_features=768, bias=True)\n",
              "          )\n",
              "          (dropout): Dropout(p=0.1, inplace=False)\n",
              "          (layer_norm): LayerNorm((768,), eps=1e-05, elementwise_affine=True)\n",
              "          (feed_forward): Wav2Vec2FeedForward(\n",
              "            (intermediate_dropout): Dropout(p=0.0, inplace=False)\n",
              "            (intermediate_dense): Linear(in_features=768, out_features=3072, bias=True)\n",
              "            (output_dense): Linear(in_features=3072, out_features=768, bias=True)\n",
              "            (output_dropout): Dropout(p=0.1, inplace=False)\n",
              "          )\n",
              "          (final_layer_norm): LayerNorm((768,), eps=1e-05, elementwise_affine=True)\n",
              "        )\n",
              "        (9): Wav2Vec2EncoderLayer(\n",
              "          (attention): Wav2Vec2Attention(\n",
              "            (k_proj): Linear(in_features=768, out_features=768, bias=True)\n",
              "            (v_proj): Linear(in_features=768, out_features=768, bias=True)\n",
              "            (q_proj): Linear(in_features=768, out_features=768, bias=True)\n",
              "            (out_proj): Linear(in_features=768, out_features=768, bias=True)\n",
              "          )\n",
              "          (dropout): Dropout(p=0.1, inplace=False)\n",
              "          (layer_norm): LayerNorm((768,), eps=1e-05, elementwise_affine=True)\n",
              "          (feed_forward): Wav2Vec2FeedForward(\n",
              "            (intermediate_dropout): Dropout(p=0.0, inplace=False)\n",
              "            (intermediate_dense): Linear(in_features=768, out_features=3072, bias=True)\n",
              "            (output_dense): Linear(in_features=3072, out_features=768, bias=True)\n",
              "            (output_dropout): Dropout(p=0.1, inplace=False)\n",
              "          )\n",
              "          (final_layer_norm): LayerNorm((768,), eps=1e-05, elementwise_affine=True)\n",
              "        )\n",
              "        (10): Wav2Vec2EncoderLayer(\n",
              "          (attention): Wav2Vec2Attention(\n",
              "            (k_proj): Linear(in_features=768, out_features=768, bias=True)\n",
              "            (v_proj): Linear(in_features=768, out_features=768, bias=True)\n",
              "            (q_proj): Linear(in_features=768, out_features=768, bias=True)\n",
              "            (out_proj): Linear(in_features=768, out_features=768, bias=True)\n",
              "          )\n",
              "          (dropout): Dropout(p=0.1, inplace=False)\n",
              "          (layer_norm): LayerNorm((768,), eps=1e-05, elementwise_affine=True)\n",
              "          (feed_forward): Wav2Vec2FeedForward(\n",
              "            (intermediate_dropout): Dropout(p=0.0, inplace=False)\n",
              "            (intermediate_dense): Linear(in_features=768, out_features=3072, bias=True)\n",
              "            (output_dense): Linear(in_features=3072, out_features=768, bias=True)\n",
              "            (output_dropout): Dropout(p=0.1, inplace=False)\n",
              "          )\n",
              "          (final_layer_norm): LayerNorm((768,), eps=1e-05, elementwise_affine=True)\n",
              "        )\n",
              "        (11): Wav2Vec2EncoderLayer(\n",
              "          (attention): Wav2Vec2Attention(\n",
              "            (k_proj): Linear(in_features=768, out_features=768, bias=True)\n",
              "            (v_proj): Linear(in_features=768, out_features=768, bias=True)\n",
              "            (q_proj): Linear(in_features=768, out_features=768, bias=True)\n",
              "            (out_proj): Linear(in_features=768, out_features=768, bias=True)\n",
              "          )\n",
              "          (dropout): Dropout(p=0.1, inplace=False)\n",
              "          (layer_norm): LayerNorm((768,), eps=1e-05, elementwise_affine=True)\n",
              "          (feed_forward): Wav2Vec2FeedForward(\n",
              "            (intermediate_dropout): Dropout(p=0.0, inplace=False)\n",
              "            (intermediate_dense): Linear(in_features=768, out_features=3072, bias=True)\n",
              "            (output_dense): Linear(in_features=3072, out_features=768, bias=True)\n",
              "            (output_dropout): Dropout(p=0.1, inplace=False)\n",
              "          )\n",
              "          (final_layer_norm): LayerNorm((768,), eps=1e-05, elementwise_affine=True)\n",
              "        )\n",
              "      )\n",
              "    )\n",
              "  )\n",
              "  (projector): Linear(in_features=768, out_features=256, bias=True)\n",
              "  (classifier): Linear(in_features=256, out_features=12, bias=True)\n",
              ")"
            ]
          },
          "metadata": {},
          "execution_count": 19
        }
      ]
    },
    {
      "cell_type": "markdown",
      "metadata": {
        "id": "U8EmET_f6458"
      },
      "source": [
        "The warning is telling us we are throwing away some weights (the `quantizer` and `project_q` layers) and randomly initializing some other (the `projector` and `classifier` layers). This is expected in this case, because we are removing the head used to pretrain the model on an unsupervised Vector Quantization objective and replacing it with a new head for which we don't have pretrained weights, so the library warns us we should fine-tune this model before using it for inference, which is exactly what we are going to do."
      ]
    },
    {
      "cell_type": "markdown",
      "metadata": {
        "id": "FEfyuq1U8hDT"
      },
      "source": [
        "To instantiate a `Trainer`, we will need to define the training configuration and the evaluation metric. The most important is the [`TrainingArguments`](https://huggingface.co/transformers/main_classes/trainer.html#transformers.TrainingArguments), which is a class that contains all the attributes to customize the training. It requires one folder name, which will be used to save the checkpoints of the model, and all other arguments are optional:"
      ]
    },
    {
      "cell_type": "code",
      "metadata": {
        "id": "xc_MTm0Ks3DF"
      },
      "source": [
        "model_name = model_checkpoint.split(\"/\")[-1]\n",
        "\n",
        "args = TrainingArguments(\n",
        "    f\"{model_name}-finetuned-ks\",\n",
        "    evaluation_strategy = \"epoch\",\n",
        "    save_strategy = \"epoch\",\n",
        "    learning_rate=3e-5,\n",
        "    per_device_train_batch_size=batch_size,\n",
        "    gradient_accumulation_steps=4,\n",
        "    per_device_eval_batch_size=batch_size,\n",
        "    num_train_epochs=5,\n",
        "    warmup_ratio=0.1,\n",
        "    logging_steps=10,\n",
        "    load_best_model_at_end=True,\n",
        "    metric_for_best_model=\"accuracy\",\n",
        "    push_to_hub=True,\n",
        ")"
      ],
      "execution_count": 26,
      "outputs": []
    },
    {
      "cell_type": "markdown",
      "metadata": {
        "id": "xi6JYNYs8lJO"
      },
      "source": [
        "Here we set the evaluation to be done at the end of each epoch, tweak the learning rate, use the `batch_size` defined at the top of the notebook and customize the number of epochs for training, as well as the weight decay. Since the best model might not be the one at the end of training, we ask the `Trainer` to load the best model it saved (according to `metric_name`) at the end of training.\n",
        "\n",
        "The last argument `push_to_hub` allows the Trainer to push the model to the [Hub](https://huggingface.co/models) regularly during training. Remove it if you didn't follow the installation steps at the top of the notebook. If you want to save your model locally with a name that is different from the name of the repository, or if you want to push your model under an organization and not your name space, use the `hub_model_id` argument to set the repo name (it needs to be the full name, including your namespace: for instance `\"anton-l/wav2vec2-finetuned-ks\"` or `\"huggingface/anton-l/wav2vec2-finetuned-ks\"`)."
      ]
    },
    {
      "cell_type": "markdown",
      "metadata": {
        "id": "2VE_HSha9RZk"
      },
      "source": [
        "Next, we need to define a function for how to compute the metrics from the predictions, which will just use the `metric` we loaded earlier. The only preprocessing we have to do is to take the argmax of our predicted logits:"
      ]
    },
    {
      "cell_type": "code",
      "metadata": {
        "id": "EVWfiBuv2uCS"
      },
      "source": [
        "import numpy as np\n",
        "\n",
        "def compute_metrics(eval_pred):\n",
        "    \"\"\"Computes accuracy on a batch of predictions\"\"\"\n",
        "    predictions = np.argmax(eval_pred.predictions, axis=1)\n",
        "    return metric.compute(predictions=predictions, references=eval_pred.label_ids)"
      ],
      "execution_count": 20,
      "outputs": []
    },
    {
      "cell_type": "markdown",
      "metadata": {
        "id": "yTF0dWw49fB9"
      },
      "source": [
        "Then we just need to pass all of this along with our datasets to the `Trainer`:"
      ]
    },
    {
      "cell_type": "code",
      "source": [
        "next(encoded_dataset[\"train\"]['input_values'])"
      ],
      "metadata": {
        "id": "UpDG-X4yH8ev"
      },
      "execution_count": null,
      "outputs": []
    },
    {
      "cell_type": "code",
      "metadata": {
        "id": "McVoaCPr3Cj-"
      },
      "source": [
        "trainer = Trainer(\n",
        "    model,\n",
        "    args,\n",
        "    train_dataset=encoded_dataset[\"train\"],\n",
        "    eval_dataset=encoded_dataset[\"validation\"],\n",
        "    tokenizer=feature_extractor,\n",
        "    compute_metrics=compute_metrics\n",
        ")"
      ],
      "execution_count": null,
      "outputs": []
    },
    {
      "cell_type": "markdown",
      "metadata": {
        "id": "ltokP9mO9pjI"
      },
      "source": [
        "You might wonder why we pass along the `feature_extractor` as a tokenizer when we already preprocessed our data. This is because we will use it once last time to make all the samples we gather the same length by applying padding, which requires knowing the model's preferences regarding padding (to the left or right? with which token?). The `feature_extractor` has a pad method that will do all of this for us, and the `Trainer` will use it. You can customize this part by defining and passing your own `data_collator` which will receive the samples like the dictionaries seen above and will need to return a dictionary of tensors."
      ]
    },
    {
      "cell_type": "markdown",
      "metadata": {
        "id": "9j6VNsGP97LG"
      },
      "source": [
        "Now we can finetune our model by calling the `train` method:"
      ]
    },
    {
      "cell_type": "code",
      "metadata": {
        "colab": {
          "base_uri": "https://localhost:8080/",
          "height": 1000
        },
        "id": "Pps61vF_4QaH",
        "outputId": "fc32c7ba-c478-4725-d06a-fc8ba54ddff0"
      },
      "source": [
        "trainer.train()"
      ],
      "execution_count": null,
      "outputs": [
        {
          "output_type": "stream",
          "name": "stderr",
          "text": [
            "***** Running training *****\n",
            "  Num examples = 51094\n",
            "  Num Epochs = 5\n",
            "  Instantaneous batch size per device = 32\n",
            "  Total train batch size (w. parallel, distributed & accumulation) = 128\n",
            "  Gradient Accumulation steps = 4\n",
            "  Total optimization steps = 1995\n"
          ]
        },
        {
          "output_type": "display_data",
          "data": {
            "text/html": [
              "\n",
              "    <div>\n",
              "      \n",
              "      <progress value='1995' max='1995' style='width:300px; height:20px; vertical-align: middle;'></progress>\n",
              "      [1995/1995 1:11:18, Epoch 4/5]\n",
              "    </div>\n",
              "    <table border=\"1\" class=\"dataframe\">\n",
              "  <thead>\n",
              "    <tr style=\"text-align: left;\">\n",
              "      <th>Epoch</th>\n",
              "      <th>Training Loss</th>\n",
              "      <th>Validation Loss</th>\n",
              "      <th>Accuracy</th>\n",
              "    </tr>\n",
              "  </thead>\n",
              "  <tbody>\n",
              "    <tr>\n",
              "      <td>0</td>\n",
              "      <td>0.790800</td>\n",
              "      <td>0.677599</td>\n",
              "      <td>0.900853</td>\n",
              "    </tr>\n",
              "    <tr>\n",
              "      <td>1</td>\n",
              "      <td>0.320200</td>\n",
              "      <td>0.206119</td>\n",
              "      <td>0.976317</td>\n",
              "    </tr>\n",
              "    <tr>\n",
              "      <td>2</td>\n",
              "      <td>0.221000</td>\n",
              "      <td>0.125691</td>\n",
              "      <td>0.978523</td>\n",
              "    </tr>\n",
              "    <tr>\n",
              "      <td>3</td>\n",
              "      <td>0.177300</td>\n",
              "      <td>0.099014</td>\n",
              "      <td>0.981318</td>\n",
              "    </tr>\n",
              "    <tr>\n",
              "      <td>4</td>\n",
              "      <td>0.172900</td>\n",
              "      <td>0.095161</td>\n",
              "      <td>0.982348</td>\n",
              "    </tr>\n",
              "  </tbody>\n",
              "</table><p>"
            ],
            "text/plain": [
              "<IPython.core.display.HTML object>"
            ]
          },
          "metadata": {}
        },
        {
          "output_type": "stream",
          "name": "stderr",
          "text": [
            "***** Running Evaluation *****\n",
            "  Num examples = 6798\n",
            "  Batch size = 32\n",
            "Saving model checkpoint to wav2vec2-base-finetuned-ks/checkpoint-399\n",
            "Configuration saved in wav2vec2-base-finetuned-ks/checkpoint-399/config.json\n",
            "Model weights saved in wav2vec2-base-finetuned-ks/checkpoint-399/pytorch_model.bin\n",
            "Configuration saved in wav2vec2-base-finetuned-ks/checkpoint-399/preprocessor_config.json\n",
            "Configuration saved in wav2vec2-base-finetuned-ks/preprocessor_config.json\n",
            "***** Running Evaluation *****\n",
            "  Num examples = 6798\n",
            "  Batch size = 32\n",
            "Saving model checkpoint to wav2vec2-base-finetuned-ks/checkpoint-798\n",
            "Configuration saved in wav2vec2-base-finetuned-ks/checkpoint-798/config.json\n",
            "Model weights saved in wav2vec2-base-finetuned-ks/checkpoint-798/pytorch_model.bin\n",
            "Configuration saved in wav2vec2-base-finetuned-ks/checkpoint-798/preprocessor_config.json\n",
            "***** Running Evaluation *****\n",
            "  Num examples = 6798\n",
            "  Batch size = 32\n",
            "Saving model checkpoint to wav2vec2-base-finetuned-ks/checkpoint-1197\n",
            "Configuration saved in wav2vec2-base-finetuned-ks/checkpoint-1197/config.json\n",
            "Model weights saved in wav2vec2-base-finetuned-ks/checkpoint-1197/pytorch_model.bin\n",
            "Configuration saved in wav2vec2-base-finetuned-ks/checkpoint-1197/preprocessor_config.json\n",
            "***** Running Evaluation *****\n",
            "  Num examples = 6798\n",
            "  Batch size = 32\n",
            "Saving model checkpoint to wav2vec2-base-finetuned-ks/checkpoint-1596\n",
            "Configuration saved in wav2vec2-base-finetuned-ks/checkpoint-1596/config.json\n",
            "Model weights saved in wav2vec2-base-finetuned-ks/checkpoint-1596/pytorch_model.bin\n",
            "Configuration saved in wav2vec2-base-finetuned-ks/checkpoint-1596/preprocessor_config.json\n",
            "***** Running Evaluation *****\n",
            "  Num examples = 6798\n",
            "  Batch size = 32\n",
            "Saving model checkpoint to wav2vec2-base-finetuned-ks/checkpoint-1995\n",
            "Configuration saved in wav2vec2-base-finetuned-ks/checkpoint-1995/config.json\n",
            "Model weights saved in wav2vec2-base-finetuned-ks/checkpoint-1995/pytorch_model.bin\n",
            "Configuration saved in wav2vec2-base-finetuned-ks/checkpoint-1995/preprocessor_config.json\n",
            "\n",
            "\n",
            "Training completed. Do not forget to share your model on huggingface.co/models =)\n",
            "\n",
            "\n",
            "Loading best model from wav2vec2-base-finetuned-ks/checkpoint-1995 (score: 0.9823477493380406).\n"
          ]
        },
        {
          "output_type": "execute_result",
          "data": {
            "text/plain": [
              "TrainOutput(global_step=1995, training_loss=0.5248636143846919, metrics={'train_runtime': 4281.3853, 'train_samples_per_second': 59.67, 'train_steps_per_second': 0.466, 'total_flos': 2.31918157475328e+18, 'train_loss': 0.5248636143846919, 'epoch': 5.0})"
            ]
          },
          "metadata": {},
          "execution_count": 23
        }
      ]
    },
    {
      "cell_type": "markdown",
      "metadata": {
        "id": "Vyb-58x_-A0e"
      },
      "source": [
        "We can check with the `evaluate` method that our `Trainer` did reload the best model properly (if it was not the last one):"
      ]
    },
    {
      "cell_type": "code",
      "metadata": {
        "id": "niniUAnb5IrR",
        "colab": {
          "base_uri": "https://localhost:8080/",
          "height": 190
        },
        "outputId": "306c07b3-e482-4c62-a147-93fb6e16e4da"
      },
      "source": [
        "trainer.evaluate()"
      ],
      "execution_count": null,
      "outputs": [
        {
          "output_type": "stream",
          "name": "stderr",
          "text": [
            "***** Running Evaluation *****\n",
            "  Num examples = 6798\n",
            "  Batch size = 32\n"
          ]
        },
        {
          "output_type": "display_data",
          "data": {
            "text/html": [
              "\n",
              "    <div>\n",
              "      \n",
              "      <progress value='213' max='213' style='width:300px; height:20px; vertical-align: middle;'></progress>\n",
              "      [213/213 01:07]\n",
              "    </div>\n",
              "    "
            ],
            "text/plain": [
              "<IPython.core.display.HTML object>"
            ]
          },
          "metadata": {}
        },
        {
          "output_type": "execute_result",
          "data": {
            "text/plain": [
              "{'epoch': 5.0,\n",
              " 'eval_accuracy': 0.9823477493380406,\n",
              " 'eval_loss': 0.09516120702028275,\n",
              " 'eval_runtime': 68.0133,\n",
              " 'eval_samples_per_second': 99.951,\n",
              " 'eval_steps_per_second': 3.132}"
            ]
          },
          "metadata": {},
          "execution_count": 24
        }
      ]
    },
    {
      "cell_type": "markdown",
      "metadata": {
        "id": "ymwN-SIR-NDF"
      },
      "source": [
        "You can now upload the result of the training to the Hub, just execute this instruction:"
      ]
    },
    {
      "cell_type": "code",
      "metadata": {
        "id": "4aNMErFz-GzX"
      },
      "source": [
        "trainer.push_to_hub()"
      ],
      "execution_count": null,
      "outputs": []
    },
    {
      "cell_type": "markdown",
      "metadata": {
        "id": "cZQnNUsI-Q4S"
      },
      "source": [
        "You can now share this model with all your friends, family, favorite pets: they can all load it with the identifier `\"your-username/the-name-you-picked\"` so for instance:\n",
        "\n",
        "```python\n",
        "from transformers import AutoModelForAudioClassification, AutoFeatureExtractor\n",
        "\n",
        "feature_extractor = AutoFeatureExtractor.from_pretrained(\"anton-l/my-awesome-model\")\n",
        "model = AutoModelForAudioClassification.from_pretrained(\"anton-l/my-awesome-model\")\n",
        "\n",
        "```"
      ]
    }
  ]
}