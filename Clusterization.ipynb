{
 "cells": [
  {
   "cell_type": "code",
   "execution_count": 363,
   "id": "dbdcb6de",
   "metadata": {},
   "outputs": [],
   "source": [
    "from sklearn.cluster import KMeans\n",
    "import numpy as np\n",
    "import pandas as pd\n",
    "from sklearn.preprocessing import StandardScaler"
   ]
  },
  {
   "cell_type": "code",
   "execution_count": 364,
   "id": "be6b2510",
   "metadata": {},
   "outputs": [
    {
     "data": {
      "text/html": [
       "<div>\n",
       "<style scoped>\n",
       "    .dataframe tbody tr th:only-of-type {\n",
       "        vertical-align: middle;\n",
       "    }\n",
       "\n",
       "    .dataframe tbody tr th {\n",
       "        vertical-align: top;\n",
       "    }\n",
       "\n",
       "    .dataframe thead th {\n",
       "        text-align: right;\n",
       "    }\n",
       "</style>\n",
       "<table border=\"1\" class=\"dataframe\">\n",
       "  <thead>\n",
       "    <tr style=\"text-align: right;\">\n",
       "      <th></th>\n",
       "      <th>Код ЦФО_ГИД</th>\n",
       "      <th>Наименование ЦФО</th>\n",
       "      <th>Дивизион</th>\n",
       "      <th>ССЧ, чел.</th>\n",
       "      <th>Материальные активы, тыс. руб.</th>\n",
       "    </tr>\n",
       "  </thead>\n",
       "  <tbody>\n",
       "    <tr>\n",
       "      <th>0</th>\n",
       "      <td>1020000000_2</td>\n",
       "      <td>ВНИИА</td>\n",
       "      <td>ЯОК</td>\n",
       "      <td>6169</td>\n",
       "      <td>41658232</td>\n",
       "    </tr>\n",
       "    <tr>\n",
       "      <th>1</th>\n",
       "      <td>1070000000_6</td>\n",
       "      <td>Маяк</td>\n",
       "      <td>ЯОК</td>\n",
       "      <td>11964</td>\n",
       "      <td>59751006</td>\n",
       "    </tr>\n",
       "    <tr>\n",
       "      <th>2</th>\n",
       "      <td>1100000000_9</td>\n",
       "      <td>ПСЗ</td>\n",
       "      <td>ЯОК</td>\n",
       "      <td>5711</td>\n",
       "      <td>29346241</td>\n",
       "    </tr>\n",
       "    <tr>\n",
       "      <th>3</th>\n",
       "      <td>1110000000_10</td>\n",
       "      <td>ВНИИТФ</td>\n",
       "      <td>ЯОК</td>\n",
       "      <td>10035</td>\n",
       "      <td>36644965</td>\n",
       "    </tr>\n",
       "    <tr>\n",
       "      <th>4</th>\n",
       "      <td>1120000000_592328</td>\n",
       "      <td>УЭМЗ</td>\n",
       "      <td>ЯОК</td>\n",
       "      <td>3091</td>\n",
       "      <td>9807274</td>\n",
       "    </tr>\n",
       "  </tbody>\n",
       "</table>\n",
       "</div>"
      ],
      "text/plain": [
       "         Код ЦФО_ГИД Наименование ЦФО Дивизион  ССЧ, чел.  \\\n",
       "0       1020000000_2            ВНИИА      ЯОК       6169   \n",
       "1       1070000000_6             Маяк      ЯОК      11964   \n",
       "2       1100000000_9              ПСЗ      ЯОК       5711   \n",
       "3      1110000000_10           ВНИИТФ      ЯОК      10035   \n",
       "4  1120000000_592328             УЭМЗ      ЯОК       3091   \n",
       "\n",
       "   Материальные активы, тыс. руб.  \n",
       "0                        41658232  \n",
       "1                        59751006  \n",
       "2                        29346241  \n",
       "3                        36644965  \n",
       "4                         9807274  "
      ]
     },
     "execution_count": 364,
     "metadata": {},
     "output_type": "execute_result"
    }
   ],
   "source": [
    "df = pd.read_excel('to_clust.xlsx')\n",
    "df.head()"
   ]
  },
  {
   "cell_type": "code",
   "execution_count": 365,
   "id": "599af14a",
   "metadata": {},
   "outputs": [],
   "source": [
    "df2 = pd.read_excel('to_clust.xlsx', sheet_name=1)\n",
    "df2[df2['Дата']=='2020-12-31'].pivot_table(index=['Код ЦФО_ГИД'], \n",
    "            columns=['Коэффициенты'], values='Значения').fillna(0).reset_index().to_excel('grouped_by_CFO_2020.xlsx', index=False)\n",
    "\n",
    "df2[df2['Дата']=='2019-12-31'].pivot_table(index=['Код ЦФО_ГИД'], \n",
    "            columns=['Коэффициенты'], values='Значения').fillna(0).reset_index().to_excel('grouped_by_CFO_2020.xlsx', index=False)"
   ]
  },
  {
   "cell_type": "code",
   "execution_count": 366,
   "id": "5c2b1c92",
   "metadata": {},
   "outputs": [],
   "source": [
    "# df.pivot_table(index=['Код ЦФО_ГИД','Дата'], \n",
    "#             columns=['Коэффициенты'], values='Значения').fillna(0).reset_index().pivot_table(index=['Код ЦФО_ГИД'], \n",
    "#             columns=['Дата'], values=['In_OCF / Out_OCF', 'ROS_Oper']).reset_index()"
   ]
  },
  {
   "cell_type": "code",
   "execution_count": 367,
   "id": "9fb6431e",
   "metadata": {},
   "outputs": [
    {
     "data": {
      "text/html": [
       "<div>\n",
       "<style scoped>\n",
       "    .dataframe tbody tr th:only-of-type {\n",
       "        vertical-align: middle;\n",
       "    }\n",
       "\n",
       "    .dataframe tbody tr th {\n",
       "        vertical-align: top;\n",
       "    }\n",
       "\n",
       "    .dataframe thead th {\n",
       "        text-align: right;\n",
       "    }\n",
       "</style>\n",
       "<table border=\"1\" class=\"dataframe\">\n",
       "  <thead>\n",
       "    <tr style=\"text-align: right;\">\n",
       "      <th></th>\n",
       "      <th>Код ЦФО_ГИД</th>\n",
       "      <th>In_OCF / Out_OCF</th>\n",
       "      <th>ROS_Oper</th>\n",
       "    </tr>\n",
       "  </thead>\n",
       "  <tbody>\n",
       "    <tr>\n",
       "      <th>0</th>\n",
       "      <td>1020000000_2</td>\n",
       "      <td>1.093160</td>\n",
       "      <td>0.140610</td>\n",
       "    </tr>\n",
       "    <tr>\n",
       "      <th>1</th>\n",
       "      <td>1070000000_6</td>\n",
       "      <td>1.076699</td>\n",
       "      <td>0.028221</td>\n",
       "    </tr>\n",
       "    <tr>\n",
       "      <th>2</th>\n",
       "      <td>1100000000_9</td>\n",
       "      <td>1.047484</td>\n",
       "      <td>0.030151</td>\n",
       "    </tr>\n",
       "    <tr>\n",
       "      <th>3</th>\n",
       "      <td>1110000000_10</td>\n",
       "      <td>0.000000</td>\n",
       "      <td>0.070801</td>\n",
       "    </tr>\n",
       "    <tr>\n",
       "      <th>4</th>\n",
       "      <td>1120000000_592328</td>\n",
       "      <td>0.981733</td>\n",
       "      <td>-0.002086</td>\n",
       "    </tr>\n",
       "  </tbody>\n",
       "</table>\n",
       "</div>"
      ],
      "text/plain": [
       "         Код ЦФО_ГИД  In_OCF / Out_OCF  ROS_Oper\n",
       "0       1020000000_2          1.093160  0.140610\n",
       "1       1070000000_6          1.076699  0.028221\n",
       "2       1100000000_9          1.047484  0.030151\n",
       "3      1110000000_10          0.000000  0.070801\n",
       "4  1120000000_592328          0.981733 -0.002086"
      ]
     },
     "execution_count": 367,
     "metadata": {},
     "output_type": "execute_result"
    }
   ],
   "source": [
    "dfg = pd.read_excel('grouped_by_CFO.xlsx')\n",
    "dfg.head()"
   ]
  },
  {
   "cell_type": "code",
   "execution_count": 368,
   "id": "eaf73dde",
   "metadata": {},
   "outputs": [
    {
     "data": {
      "text/html": [
       "<div>\n",
       "<style scoped>\n",
       "    .dataframe tbody tr th:only-of-type {\n",
       "        vertical-align: middle;\n",
       "    }\n",
       "\n",
       "    .dataframe tbody tr th {\n",
       "        vertical-align: top;\n",
       "    }\n",
       "\n",
       "    .dataframe thead th {\n",
       "        text-align: right;\n",
       "    }\n",
       "</style>\n",
       "<table border=\"1\" class=\"dataframe\">\n",
       "  <thead>\n",
       "    <tr style=\"text-align: right;\">\n",
       "      <th></th>\n",
       "      <th>Код ЦФО_ГИД</th>\n",
       "      <th>Наименование ЦФО</th>\n",
       "      <th>Дивизион</th>\n",
       "      <th>ССЧ, чел.</th>\n",
       "      <th>Материальные активы, тыс. руб.</th>\n",
       "      <th>In_OCF / Out_OCF</th>\n",
       "      <th>ROS_Oper</th>\n",
       "    </tr>\n",
       "  </thead>\n",
       "  <tbody>\n",
       "    <tr>\n",
       "      <th>0</th>\n",
       "      <td>1020000000_2</td>\n",
       "      <td>ВНИИА</td>\n",
       "      <td>ЯОК</td>\n",
       "      <td>6169</td>\n",
       "      <td>41658232</td>\n",
       "      <td>1.093160</td>\n",
       "      <td>0.140610</td>\n",
       "    </tr>\n",
       "    <tr>\n",
       "      <th>1</th>\n",
       "      <td>1070000000_6</td>\n",
       "      <td>Маяк</td>\n",
       "      <td>ЯОК</td>\n",
       "      <td>11964</td>\n",
       "      <td>59751006</td>\n",
       "      <td>1.076699</td>\n",
       "      <td>0.028221</td>\n",
       "    </tr>\n",
       "    <tr>\n",
       "      <th>2</th>\n",
       "      <td>1100000000_9</td>\n",
       "      <td>ПСЗ</td>\n",
       "      <td>ЯОК</td>\n",
       "      <td>5711</td>\n",
       "      <td>29346241</td>\n",
       "      <td>1.047484</td>\n",
       "      <td>0.030151</td>\n",
       "    </tr>\n",
       "    <tr>\n",
       "      <th>3</th>\n",
       "      <td>1110000000_10</td>\n",
       "      <td>ВНИИТФ</td>\n",
       "      <td>ЯОК</td>\n",
       "      <td>10035</td>\n",
       "      <td>36644965</td>\n",
       "      <td>0.000000</td>\n",
       "      <td>0.070801</td>\n",
       "    </tr>\n",
       "    <tr>\n",
       "      <th>4</th>\n",
       "      <td>1120000000_592328</td>\n",
       "      <td>УЭМЗ</td>\n",
       "      <td>ЯОК</td>\n",
       "      <td>3091</td>\n",
       "      <td>9807274</td>\n",
       "      <td>0.981733</td>\n",
       "      <td>-0.002086</td>\n",
       "    </tr>\n",
       "  </tbody>\n",
       "</table>\n",
       "</div>"
      ],
      "text/plain": [
       "         Код ЦФО_ГИД Наименование ЦФО Дивизион  ССЧ, чел.  \\\n",
       "0       1020000000_2            ВНИИА      ЯОК       6169   \n",
       "1       1070000000_6             Маяк      ЯОК      11964   \n",
       "2       1100000000_9              ПСЗ      ЯОК       5711   \n",
       "3      1110000000_10           ВНИИТФ      ЯОК      10035   \n",
       "4  1120000000_592328             УЭМЗ      ЯОК       3091   \n",
       "\n",
       "   Материальные активы, тыс. руб.  In_OCF / Out_OCF  ROS_Oper  \n",
       "0                        41658232          1.093160  0.140610  \n",
       "1                        59751006          1.076699  0.028221  \n",
       "2                        29346241          1.047484  0.030151  \n",
       "3                        36644965          0.000000  0.070801  \n",
       "4                         9807274          0.981733 -0.002086  "
      ]
     },
     "execution_count": 368,
     "metadata": {},
     "output_type": "execute_result"
    }
   ],
   "source": [
    "df_to_clust = pd.merge(df, dfg, left_on='Код ЦФО_ГИД', right_on='Код ЦФО_ГИД', how='left')\n",
    "df_to_clust.head()"
   ]
  },
  {
   "cell_type": "code",
   "execution_count": 369,
   "id": "0ed3cba8",
   "metadata": {},
   "outputs": [
    {
     "data": {
      "text/plain": [
       "Index(['Код ЦФО_ГИД', 'Наименование ЦФО', 'Дивизион', 'ССЧ, чел.',\n",
       "       'Материальные активы, тыс. руб.', 'In_OCF / Out_OCF', 'ROS_Oper'],\n",
       "      dtype='object')"
      ]
     },
     "execution_count": 369,
     "metadata": {},
     "output_type": "execute_result"
    }
   ],
   "source": [
    "df_to_clust.columns"
   ]
  },
  {
   "cell_type": "code",
   "execution_count": null,
   "id": "5ac8cf68",
   "metadata": {},
   "outputs": [],
   "source": []
  },
  {
   "cell_type": "code",
   "execution_count": 370,
   "id": "87c29294",
   "metadata": {},
   "outputs": [],
   "source": [
    "X = df_to_clust[[ 'ССЧ, чел.','Материальные активы, тыс. руб.', 'In_OCF / Out_OCF', 'ROS_Oper']]\n",
    "scaler = StandardScaler()\n",
    "X = scaler.fit_transform(X)"
   ]
  },
  {
   "cell_type": "code",
   "execution_count": 412,
   "id": "26cbaac5",
   "metadata": {},
   "outputs": [],
   "source": [
    "kmeans = KMeans(n_clusters=4, random_state=42).fit(X)"
   ]
  },
  {
   "cell_type": "code",
   "execution_count": 413,
   "id": "35c5d6d3",
   "metadata": {},
   "outputs": [
    {
     "data": {
      "text/plain": [
       "array([2, 2, 2, 2, 2, 0, 2, 3, 0, 3, 1, 1, 3, 1, 0, 1, 3, 3, 3, 3, 3, 0,\n",
       "       0, 1, 2, 0, 2, 3, 2, 0, 0, 1, 2, 1, 1, 2, 3, 3, 0, 0, 0, 3, 0, 0,\n",
       "       3, 0, 0, 1, 1, 1, 0, 1, 2, 0, 2, 0, 3, 3, 0, 1, 1, 1, 0, 0, 1, 0,\n",
       "       1, 1, 2, 1, 1, 0, 2, 0, 2, 3, 2, 2, 3, 3, 1, 3, 3, 2, 3, 1, 3, 2,\n",
       "       1, 2, 0, 1, 3, 0, 3, 0, 0, 3, 2, 1, 0, 3, 0, 1, 0, 0, 1, 2, 2, 1,\n",
       "       1, 3, 1, 3, 1, 1, 1, 2, 3, 3, 3, 0, 1, 1, 1, 1, 3, 0, 0, 1, 0, 0,\n",
       "       2, 0, 1, 1, 3, 3, 2, 1])"
      ]
     },
     "execution_count": 413,
     "metadata": {},
     "output_type": "execute_result"
    }
   ],
   "source": [
    "kmeans.labels_"
   ]
  },
  {
   "cell_type": "code",
   "execution_count": 414,
   "id": "be90bf98",
   "metadata": {},
   "outputs": [
    {
     "data": {
      "image/png": "[encoded data removed]",
      "text/plain": [
       "<Figure size 1440x216 with 1 Axes>"
      ]
     },
     "metadata": {
      "needs_background": "light"
     },
     "output_type": "display_data"
    }
   ],
   "source": [
    "import matplotlib.pyplot as plt\n",
    " \n",
    "#filter rows of original data\n",
    "filtered_label0 = df[['ССЧ, чел.','Материальные активы, тыс. руб.']][kmeans.labels_ == 0].values\n",
    "filtered_label1 = df[['ССЧ, чел.','Материальные активы, тыс. руб.']][kmeans.labels_ == 1].values\n",
    "filtered_label2 = df[['ССЧ, чел.','Материальные активы, тыс. руб.']][kmeans.labels_ == 4].values\n",
    " \n",
    "#plotting the results\n",
    "plt.scatter(filtered_label0[:,0] , filtered_label0[:,1])\n",
    "plt.scatter(filtered_label1[:,0] , filtered_label1[:,1])\n",
    "plt.scatter(filtered_label2[:,0] , filtered_label2[:,1])\n",
    "plt.show()\n"
   ]
  },
  {
   "cell_type": "code",
   "execution_count": 415,
   "id": "5a1d6b32",
   "metadata": {},
   "outputs": [
    {
     "name": "stderr",
     "output_type": "stream",
     "text": [
      "No handles with labels found to put in legend.\n"
     ]
    },
    {
     "data": {
      "image/png": "[encoded data removed]",
      "text/plain": [
       "<Figure size 1440x216 with 1 Axes>"
      ]
     },
     "metadata": {
      "needs_background": "light"
     },
     "output_type": "display_data"
    }
   ],
   "source": [
    "u_labels = np.unique(kmeans.labels_)\n",
    "#plotting the results:\n",
    " \n",
    "for i in u_labels:\n",
    "    plt.scatter(X[kmeans.labels_ == i][:,0] , X[kmeans.labels_ == i][:,1])\n",
    "plt.legend()\n",
    "plt.show()"
   ]
  },
  {
   "cell_type": "code",
   "execution_count": 393,
   "id": "0e320974",
   "metadata": {},
   "outputs": [
    {
     "name": "stdout",
     "output_type": "stream",
     "text": [
      "Automatically created module for IPython interactive environment\n"
     ]
    }
   ],
   "source": [
    "print(__doc__)\n",
    "\n",
    "import numpy as np\n",
    "\n",
    "from sklearn.cluster import DBSCAN\n",
    "from sklearn import metrics\n",
    "from sklearn.datasets import make_blobs\n",
    "from sklearn.preprocessing import StandardScaler\n",
    "import numpy as np\n",
    "from sklearn.manifold import TSNE"
   ]
  },
  {
   "cell_type": "code",
   "execution_count": 399,
   "id": "c70046cf",
   "metadata": {},
   "outputs": [],
   "source": [
    "X= TSNE(n_components=2).fit_transform(X)"
   ]
  },
  {
   "cell_type": "code",
   "execution_count": 423,
   "id": "9b42ca36",
   "metadata": {
    "scrolled": false
   },
   "outputs": [
    {
     "name": "stdout",
     "output_type": "stream",
     "text": [
      "Estimated number of clusters: 7\n",
      "Estimated number of noise points: 7\n",
      "Silhouette Coefficient: 0.524\n"
     ]
    },
    {
     "data": {
      "image/png": "[encoded data removed]",
      "text/plain": [
       "<Figure size 1440x1152 with 1 Axes>"
      ]
     },
     "metadata": {
      "needs_background": "light"
     },
     "output_type": "display_data"
    }
   ],
   "source": [
    "# Compute DBSCAN\n",
    "\n",
    "plt.figure(figsize=(20,16))\n",
    "db = DBSCAN(eps=0.92, min_samples=4).fit(X)\n",
    "core_samples_mask = np.zeros_like(db.labels_, dtype=bool)\n",
    "core_samples_mask[db.core_sample_indices_] = True\n",
    "labels = db.labels_\n",
    "\n",
    "# Number of clusters in labels, ignoring noise if present.\n",
    "n_clusters_ = len(set(labels)) - (1 if -1 in labels else 0)\n",
    "n_noise_ = list(labels).count(-1)\n",
    "\n",
    "print('Estimated number of clusters: %d' % n_clusters_)\n",
    "print('Estimated number of noise points: %d' % n_noise_)\n",
    "print(\"Silhouette Coefficient: %0.3f\"\n",
    "      % metrics.silhouette_score(X, labels))\n",
    "\n",
    "# #############################################################################\n",
    "# Plot result\n",
    "import matplotlib.pyplot as plt\n",
    "\n",
    "# Black removed and is used for noise instead.\n",
    "unique_labels = set(labels)\n",
    "colors = [plt.cm.Spectral(each)\n",
    "          for each in np.linspace(0, 1, len(unique_labels))]\n",
    "for k, col in zip(unique_labels, colors):\n",
    "    if k == -1:\n",
    "        # Black used for noise.\n",
    "        col = [0, 0, 0, 1]\n",
    "\n",
    "    class_member_mask = (labels == k)\n",
    "\n",
    "    xy = X[class_member_mask & core_samples_mask]\n",
    "    plt.plot(xy[:, 0], xy[:, 1], 'o', markerfacecolor=tuple(col),\n",
    "             markeredgecolor='k', markersize=14)\n",
    "\n",
    "    xy = X[class_member_mask & ~core_samples_mask]\n",
    "    \n",
    "    \n",
    "    plt.plot(xy[:, 0], xy[:, 1], 'o', markerfacecolor=tuple(col),\n",
    "             markeredgecolor='k', markersize=6)\n",
    "\n",
    "plt.title('Estimated number of clusters: %d' % n_clusters_)\n",
    "plt.show()"
   ]
  },
  {
   "cell_type": "code",
   "execution_count": null,
   "id": "ba34d91e",
   "metadata": {},
   "outputs": [],
   "source": []
  },
  {
   "cell_type": "code",
   "execution_count": null,
   "id": "031bfe6d",
   "metadata": {},
   "outputs": [],
   "source": []
  },
  {
   "cell_type": "code",
   "execution_count": null,
   "id": "854dd6c1",
   "metadata": {},
   "outputs": [],
   "source": []
  }
 ],
 "metadata": {
  "kernelspec": {
   "display_name": "Python 3",
   "language": "python",
   "name": "python3"
  },
  "language_info": {
   "codemirror_mode": {
    "name": "ipython",
    "version": 3
   },
   "file_extension": ".py",
   "mimetype": "text/x-python",
   "name": "python",
   "nbconvert_exporter": "python",
   "pygments_lexer": "ipython3",
   "version": "3.8.8"
  }
 },
 "nbformat": 4,
 "nbformat_minor": 5
}
