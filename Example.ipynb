{
 "cells": [
  {
   "cell_type": "code",
   "execution_count": null,
   "metadata": {},
   "outputs": [],
   "source": [
    "import pandas as pd\n",
    "import numpy as np\n",
    "import matplotlib.pyplot as plt"
   ]
  },
  {
   "cell_type": "code",
   "execution_count": null,
   "metadata": {
    "scrolled": true
   },
   "outputs": [],
   "source": [
    "df = pd.read_excel('uran.xls', header = 1)\n",
    "df.tail()"
   ]
  },
  {
   "cell_type": "code",
   "execution_count": null,
   "metadata": {},
   "outputs": [],
   "source": [
    "br = pd.read_excel('нефть-brent.xlsx', header = 0)\n",
    "br.head()"
   ]
  },
  {
   "cell_type": "code",
   "execution_count": null,
   "metadata": {},
   "outputs": [],
   "source": [
    "br.index = pd.to_datetime(br['Дата'],format='%m/%d/%y %I:%M%p')\n",
    "brent_barrel = br.groupby(by=[ br.index.year,br.index.month]).mean().values[:-1]"
   ]
  },
  {
   "cell_type": "code",
   "execution_count": null,
   "metadata": {},
   "outputs": [],
   "source": [
    "dollar = [76.3 , 77.23, 70.51, 66.69, 65.68, 65.31, 64.34, 64.92, 64.60, 62.68, 64.36,\n",
    " 62.2,  59.95, 58.4,  58.1,  56.43, 57.17, 57.84, 59.67, 59.64, 57.69, \n",
    " 57.73, 58.92, 58.58, 56.78, 56.81, 57.03, 60.46, 62.2,  62.7,  62.88, 66.12,\n",
    " 67.65, 65.88, 66.24, 67.3,  67.34, 65.86, 65.14, 64.61, 64.84, 64.23, 63.19,\n",
    " 65.53, 64.98, 64.35, 63.86, 62.94,  61.78, 63.88, 73.31, 75.23, 72.68, 69.22,\n",
    " 71.28, 73.8,  75.66, 77.59, 77,    74.05, 74.22, 74.38, 76.09, 74.04, 73.5, 73.98]"
   ]
  },
  {
   "cell_type": "code",
   "execution_count": null,
   "metadata": {},
   "outputs": [],
   "source": [
    "df['dollar'] = dollar\n",
    "df['oil'] = brent_barrel"
   ]
  },
  {
   "cell_type": "code",
   "execution_count": null,
   "metadata": {
    "scrolled": true
   },
   "outputs": [],
   "source": [
    "df[['sh1']] = df[['Spot среднее (долл./U3O8)']].shift(1)\n",
    "df[['d1']] = df[['dollar']].shift(1)"
   ]
  },
  {
   "cell_type": "code",
   "execution_count": null,
   "metadata": {},
   "outputs": [],
   "source": [
    "df[['Spot среднее (долл./U3O8)','sh1','d1', 'dollar','oil']].corr(method='spearman')"
   ]
  },
  {
   "cell_type": "code",
   "execution_count": null,
   "metadata": {},
   "outputs": [],
   "source": [
    "X = df[['dollar','oil','sh1','d1']].values\n",
    "y = df[['Spot среднее (долл./U3O8)']].values"
   ]
  },
  {
   "cell_type": "code",
   "execution_count": null,
   "metadata": {},
   "outputs": [],
   "source": [
    "%matplotlib inline"
   ]
  },
  {
   "cell_type": "code",
   "execution_count": null,
   "metadata": {
    "scrolled": true
   },
   "outputs": [],
   "source": [
    "from catboost import CatBoostRegressor\n",
    "from catboost import Pool, cv\n",
    "\n",
    "model = CatBoostRegressor()\n",
    "# Fit model\n",
    "model.fit(X[:-1], y[:-1],\n",
    "          eval_set=(X[[-1]], y[-1]),\n",
    "          verbose=True,\n",
    "          plot=True)"
   ]
  },
  {
   "cell_type": "code",
   "execution_count": null,
   "metadata": {},
   "outputs": [],
   "source": [
    "model.predict(X[-1]), y[-1]"
   ]
  },
  {
   "cell_type": "code",
   "execution_count": null,
   "metadata": {},
   "outputs": [],
   "source": []
  },
  {
   "cell_type": "code",
   "execution_count": null,
   "metadata": {},
   "outputs": [],
   "source": []
  },
  {
   "cell_type": "code",
   "execution_count": null,
   "metadata": {},
   "outputs": [],
   "source": []
  },
  {
   "cell_type": "code",
   "execution_count": null,
   "metadata": {},
   "outputs": [],
   "source": []
  },
  {
   "cell_type": "code",
   "execution_count": null,
   "metadata": {},
   "outputs": [],
   "source": []
  },
  {
   "cell_type": "code",
   "execution_count": null,
   "metadata": {},
   "outputs": [],
   "source": []
  },
  {
   "cell_type": "code",
   "execution_count": null,
   "metadata": {},
   "outputs": [],
   "source": []
  },
  {
   "cell_type": "code",
   "execution_count": null,
   "metadata": {},
   "outputs": [],
   "source": []
  },
  {
   "cell_type": "code",
   "execution_count": null,
   "metadata": {},
   "outputs": [],
   "source": []
  },
  {
   "cell_type": "code",
   "execution_count": null,
   "metadata": {
    "scrolled": true
   },
   "outputs": [],
   "source": [
    "fig = plt.figure(figsize=(20,5))\n",
    "plt.title(f'UranTimeLine')\n",
    "plt.plot(df[['Trade Tech Exchange Value']], '-o', zorder=1)\n",
    "plt.plot(df[['dollar']], '-o', zorder=1)\n",
    "\n",
    "#mask = (df[['UxC U3O8 Spot']] > df[['UxC U3O8 Spot']].tail(12).mean())\n",
    "#plt.scatter(df[mask].index, df[mask]['UxC U3O8 Spot'], label='аномальный участок', color='red',zorder=2)\n",
    "\n",
    "plt.legend()\n",
    "plt.xlabel('Month')\n",
    "plt.ylabel('Price, $')\n",
    "plt.show()"
   ]
  },
  {
   "cell_type": "code",
   "execution_count": null,
   "metadata": {
    "scrolled": false
   },
   "outputs": [],
   "source": [
    "import numpy as np\n",
    "from scipy.stats import mstats\n",
    "import matplotlib.pyplot as plt\n",
    "\n",
    "\n",
    "fig, ax = plt.subplots(figsize=(20, 10))\n",
    "plt.title(f'UranTimeLine')\n",
    "plt.plot(df[['Spot среднее (долл./U3O8)']], '-o', zorder=1, label= f'Spot среднее (долл./U3O8')    \n",
    "plt.plot(df[['dollar']]/2, '-o', zorder=1, label= f'USD RUB')\n",
    "\n",
    "\n",
    "# Calculate the quantiles column wise\n",
    "quantiles = mstats.mquantiles(df[['Spot среднее (долл./U3O8)']].tail(12).values,\n",
    "                              prob=[ 0.14, 0.86], axis=0)\n",
    "# Plot it\n",
    "#labels = ['15%', '85%']\n",
    "#for i, q in enumerate(quantiles):  \n",
    "#    plt.axhline(q,color='k', linestyle='--' , label= f'Перцентиль {labels[i]}'\n",
    "#               )\n",
    "plt.axhline(quantiles[0] ,color='k', linestyle='--' , label= f'Автоматически рассчитанный порог отклонения' )\n",
    "plt.axhline(quantiles[1] ,color='k', linestyle='--'  )\n",
    "    \n",
    "last_value = df[['Spot среднее (долл./U3O8)']].tail(1).values[0]\n",
    "year_mean = df[['Spot среднее (долл./U3O8)']].tail(12).values.mean()  \n",
    "\n",
    "\n",
    "a = quantiles[0][0]\n",
    "b = quantiles[1][0]\n",
    "x = df[['Spot среднее (долл./U3O8)']].tail(1).values[0]\n",
    "if not min(a, b) < x < max(a, b):\n",
    "    plt.scatter(df[['Spot среднее (долл./U3O8)']].tail(1).index[0], \n",
    "                df[['Spot среднее (долл./U3O8)']].tail(1).values[0], \n",
    "                label='Аномальное значение', color='red',zorder=2)\n",
    "\n",
    "# plt.scatter(df[['Spot среднее (долл./U3O8)']][47:59].idxmax()[0], \n",
    "#             max(df[['Spot среднее (долл./U3O8)']][47:59].values )[0], \n",
    "#             label='Максимальное значение, предыдущий год', color='red',zorder=2)   \n",
    "\n",
    "# plt.scatter(df[['Spot среднее (долл./U3O8)']][47:59].idxmin()[0], \n",
    "#             min(df[['Spot среднее (долл./U3O8)']][47:59].values )[0], \n",
    "#             label='Минимальное значение, предыдущий год', color='red',zorder=2)  \n",
    "\n",
    "# draw diagonal line from (70, 90) to (90, 200)\n",
    "#plt.plot([48, 60],[max(df[['Spot среднее (долл./U3O8)']][47:59].values )[0], max(df[['Spot среднее (долл./U3O8)']][47:59].values )[0]], 'k-')\n",
    "#plt.plot([48, 60],[min(df[['Spot среднее (долл./U3O8)']][47:59].values )[0], min(df[['Spot среднее (долл./U3O8)']][47:59].values )[0]], 'k-')\n",
    "\n",
    "\n",
    "\n",
    "\n",
    "plt.plot([34, 52],[df[['Spot среднее (долл./U3O8)']][34:35].values[0][0], df[['Spot среднее (долл./U3O8)']][52:53].values[0][0] ], 'k-')\n",
    "plt.plot([27, 48],[df[['Spot среднее (долл./U3O8)']][27:28].values[0][0], df[['Spot среднее (долл./U3O8)']][48:49].values[0][0] ], 'k-')\n",
    "\n",
    "\n",
    "\n",
    "\n",
    "    \n",
    "plt.axhline(year_mean * 1.1 ,color='r', linestyle='--', label= f'Максимальное отклонение, выбранное экспертом')\n",
    "plt.axhline(year_mean * 0.9 ,color='r', linestyle='--')\n",
    "\n",
    "plt.axvline(0 ,color='tab:blue', linestyle='--')\n",
    "plt.axvline(12 ,color='tab:blue', linestyle='--')\n",
    "plt.axvline(24 ,color='tab:blue', linestyle='--')\n",
    "plt.axvline(36 ,color='tab:blue', linestyle='--')\n",
    "plt.axvline(48 ,color='tab:blue', linestyle='--')\n",
    "plt.axvline(60 ,color='tab:blue', linestyle='--')\n",
    "\n",
    "plt.legend()\n",
    "\n",
    "\n",
    "\n",
    "ax.set_ylabel('Spot среднее USD ')\n",
    "ax.set_xlabel('Month \\n ')\n",
    "\n",
    "plt.show()"
   ]
  },
  {
   "cell_type": "code",
   "execution_count": null,
   "metadata": {},
   "outputs": [],
   "source": [
    "print('Верхний порог ', round(year_mean * 1.1, 2)  )\n",
    "print('Нижний порог', round(year_mean * 0.9, 2)  )\n",
    "\n",
    "print('Максимальное отклонение от среднегодового значения', \n",
    "      round(max(df[['Spot среднее (долл./U3O8)']][47:59].values )[0] / year_mean -1,2)*100 , '%')"
   ]
  },
  {
   "cell_type": "code",
   "execution_count": null,
   "metadata": {},
   "outputs": [],
   "source": []
  }
 ],
 "metadata": {
  "kernelspec": {
   "display_name": "Python 3",
   "language": "python",
   "name": "python3"
  },
  "language_info": {
   "codemirror_mode": {
    "name": "ipython",
    "version": 3
   },
   "file_extension": ".py",
   "mimetype": "text/x-python",
   "name": "python",
   "nbconvert_exporter": "python",
   "pygments_lexer": "ipython3",
   "version": "3.8.8"
  }
 },
 "nbformat": 4,
 "nbformat_minor": 4
}
